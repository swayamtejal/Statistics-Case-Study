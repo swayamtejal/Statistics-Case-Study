{
 "cells": [
  {
   "cell_type": "markdown",
   "metadata": {},
   "source": [
    "## Problem Statement 1:  \n",
    " \n",
    "In each of the following situations, state whether it is a correctly stated hypothesis testing problem and why? \n",
    " \n",
    "1. 𝐻0: 𝜇 = 25, 𝐻1: 𝜇 ≠ 25 \n",
    "2. 𝐻0: 𝜎 > 10, 𝐻1: 𝜎 = 10 \n",
    "3. 𝐻0: 𝑥  = 50, 𝐻1: 𝑥  ≠ 50\n",
    "4. 𝐻0: 𝑝 = 0.1, 𝐻1: 𝑝 = 0.5 \n",
    "5. 𝐻0: 𝑠 = 30, 𝐻1: 𝑠 > 30 \n",
    " \n",
    " "
   ]
  },
  {
   "cell_type": "markdown",
   "metadata": {},
   "source": [
    "***"
   ]
  },
  {
   "cell_type": "markdown",
   "metadata": {},
   "source": [
    "#### 1.𝐻0: 𝜇 = 25, 𝐻1: 𝜇 ≠ 25\n",
    "\n",
    "The major purpose of hypothesis testing is to choose between two competing hypothesis about the value of a population parameter.\n",
    "Here,\n",
    "Null Hypothesis            H0: 𝜇 = 25\n",
    "Alternate Hypothesis       𝐻1: 𝜇 ≠ 25\n",
    "    In this hypothesis, it can be seen than that the hypothesis are correctly stated because the null hypothesis is stated \n",
    "    as  difference between the parameter(𝜇) and its estimate. Hence the hypothesis is correctly stated"
   ]
  },
  {
   "cell_type": "markdown",
   "metadata": {},
   "source": [
    "#### 2. 𝐻0: 𝜎 > 10, 𝐻1: 𝜎 = 10\n",
    "In this hypothesis, it can be seen than that the hypothesis are not correctly stated because the null hypothesis is stated \n",
    "    as no difference between the parameter(𝜎 ) and its estimate. Hence the hypothesis is not correctly stated"
   ]
  },
  {
   "cell_type": "markdown",
   "metadata": {},
   "source": [
    "#### 3. 𝐻0: 𝑥  = 50, 𝐻1: 𝑥  ≠ 50\n",
    "In this hypothesis, it can be observed that the hypothesis are not correctly stated because the null hypothesis is stated as no difference between the statistic(x) and its estimate. Hence, it is not correctly stated hypothesis"
   ]
  },
  {
   "cell_type": "markdown",
   "metadata": {},
   "source": [
    "#### 4. 𝐻0: 𝑝 = 0.1, 𝐻1: 𝑝 = 0.5 \n",
    "In this hypothesis, it can be observed that the hypothesis are not correctly stated because the null hypothesis is stated as no difference between the parameter(p) and its estimate. Hence, it is not correctly stated hypothesis\n"
   ]
  },
  {
   "cell_type": "markdown",
   "metadata": {},
   "source": [
    "#### 5. 𝐻0: 𝑠 = 30, 𝐻1: 𝑠 > 30 \n",
    " In this hypothesis, it can be observed that the hypothesis are not correctly stated because the null hypothesis is stated as no difference between the statistic(s) and its estimate. Hence, it is not correctly stated hypothesis"
   ]
  },
  {
   "cell_type": "markdown",
   "metadata": {},
   "source": [
    "***"
   ]
  },
  {
   "cell_type": "markdown",
   "metadata": {},
   "source": [
    "## Problem Statement 2: \n",
    " \n",
    "The college bookstore tells prospective students that the average cost of its textbooks is Rs. 52 with a standard deviation of Rs. 4.50. A group of smart statistics students thinks that the average cost is higher. To test the bookstore’s claim against their alternative, the students will select a random sample of size 100. Assume that the mean from their random sample is Rs. 52.80. Perform a hypothesis test at the 5% level of significance and state your decision"
   ]
  },
  {
   "cell_type": "markdown",
   "metadata": {},
   "source": [
    "***"
   ]
  },
  {
   "cell_type": "markdown",
   "metadata": {},
   "source": [
    "\n",
    "Step-1: State the hypothesis.A group of smart statistics students thinks that the average cost 52 is higher.\n",
    "    \n",
    "H0: μ <=52\n",
    "H1: μ >52\n",
    "    \n",
    "Step-2: Set up the significance level(α). It is given in the problem  as 5% (0.05).\n",
    "    \n",
    "    α=0.05\n",
    "    \n",
    "Step-3: Compute the random chance probability using z score and z-table.\n",
    " \n",
    " For this set of data: \n",
    "    𝜇=Rs.52 \n",
    "    𝜎 = Rs.4.50\n",
    "    X̄=Rs.52.80\n",
    "    n=100\n",
    "    Reject H0 if z>1.645\n",
    "    \n",
    " z= (52.80-52.0) / (4.50/√100)= 1.78\n",
    " \n",
    "You can look at the probability by looking at z- table and p-value associated with 1.78 is 0.9625 \n",
    "i.e. p=P(z>1.78)=(1-0.9625)=0.0375.\n",
    "\n",
    "\n",
    "\n",
    "Step-4: It is less than 0.05 so we will reject the Null hypothesis i.e. the average cost of textbooks is statistically significantly higher than the bookstores claim\n"
   ]
  },
  {
   "cell_type": "markdown",
   "metadata": {},
   "source": [
    "***"
   ]
  },
  {
   "cell_type": "markdown",
   "metadata": {},
   "source": [
    "## Problem Statement 3:  \n",
    " \n",
    "A certain chemical pollutant in the Genesee River has been constant for several years with mean μ = 34 ppm (parts per million) and standard deviation σ = 8 ppm. A group of factory representatives whose companies discharge liquids into the river is now claiming that they have lowered the average with improved filtration devices. A group of environmentalists will test to see if this is true at the 1% level of significance. Assume that their sample of size 50 gives a mean of 32.5 ppm. Perform a hypothesis test at the 1% level of significance and state your decision. \n",
    " \n",
    " "
   ]
  },
  {
   "cell_type": "markdown",
   "metadata": {},
   "source": [
    "***"
   ]
  },
  {
   "cell_type": "markdown",
   "metadata": {},
   "source": [
    "Step-1: State the hypothesis.\n",
    "    \n",
    "H0: μ =34\n",
    "H1: μ ≠ 34\n",
    "    \n",
    "Step-2: Set up the significance level(α). It is given in the problem  as 1% (0.01).\n",
    "    \n",
    "    α=0.05\n",
    "    \n",
    "Step-3: Computing the random chance probability using z score and z-table.\n",
    " \n",
    " For this set of data: \n",
    "    𝜇=34ppm\n",
    "    𝜎 = 8ppm\n",
    "    X̄=32.5ppm\n",
    "    n=50\n",
    "    \n",
    "    \n",
    " z= (32.5-34) / (8/√50)= -1.33\n",
    " \n",
    "Critical value of z = ±2.58 for a two tailed test with significance level 0.01\n",
    "\n",
    "\n",
    "\n",
    "Step-4: The computed value of z=-1.33 falls in acceptance region, and hence we accept the null hypothesis. Hence the claim that they have lowered the average discharge with improved filtration devices is true"
   ]
  },
  {
   "cell_type": "markdown",
   "metadata": {},
   "source": [
    "***"
   ]
  },
  {
   "cell_type": "markdown",
   "metadata": {},
   "source": [
    "## Problem Statement 4:  \n",
    " \n",
    "Based on population figures and other general information on the U.S. population, suppose it has been estimated that, on average, a family of four in the U.S. spends about $1135 annually on dental expenditures. Suppose further that a regional dental association wants to test to determine if this figure is accurate for their area of country. To test this, 22 families of 4 are randomly selected from the population in that area of the country and a log is kept of the family’s dental expenditure for one year. The resulting data are given below. Assuming, that dental expenditure is normally distributed in the population, use the data and an alpha of 0.5 to test the dental association’s hypothesis. \n",
    " \n",
    "1008, 812, 1117, 1323, 1308, 1415, 831, 1021, 1287, 851, 930, 730, 699, 872, 913, 944, 954, 987, 1695, 995, 1003, 994 \n",
    " \n",
    " "
   ]
  },
  {
   "cell_type": "markdown",
   "metadata": {},
   "source": [
    "***"
   ]
  },
  {
   "cell_type": "markdown",
   "metadata": {},
   "source": [
    "Step1: Develop a Hypothesis and State significance level:\n",
    "        H0:  μ =$1135\n",
    "        H1:  μ ≠$1135\n",
    "        \n",
    "Step2:State significance level\n",
    "    Significance level (α)is given in the problem as 0.5.\n",
    "        α=0.05\n",
    "    \n",
    "Step3: Identify Test Statistic: \n",
    "    𝜇=$1135\n",
    "    𝜎 =240.37\n",
    "    X̄=$1031.32\n",
    "    n=22\n",
    "    \n",
    "    \n",
    " z= (1031.32-1135) / (240.37/√22)= -2.02\n",
    " \n",
    "Step4: Determine P-value:\n",
    "        p=P(z>-2.02to z<2.02)=0.0434\n",
    " \n",
    "Critical value of z = ±1.96 for a two tailed test with significance level 0.05\n",
    "\n",
    "\n",
    "Step5: Compare P-value to Significance level:\n",
    "        0.0434<0.05.\n",
    "        Hence  Reject H0 hypothesis.Hence, the average dental expenditures for the population is not accurate for their area of the country."
   ]
  },
  {
   "cell_type": "markdown",
   "metadata": {},
   "source": [
    "***"
   ]
  },
  {
   "cell_type": "markdown",
   "metadata": {},
   "source": [
    "## Problem Statement 5:  \n",
    " \n",
    "In a report prepared by the Economic Research Department of a major bank the Department manager maintains that the average annual family income on Metropolis is $48,432.What do you conclude about the validity of the report if a random sample of 400 families shows and average income of 48,574 with a standard deviation of 2000? \n",
    " "
   ]
  },
  {
   "cell_type": "markdown",
   "metadata": {},
   "source": [
    "***"
   ]
  },
  {
   "cell_type": "markdown",
   "metadata": {},
   "source": [
    "Step1: \n",
    "    Develop a Hypothesis and State significance level:\n",
    "            H0:  μ = 48,432\n",
    "            H1:  μ ≠ 48,432\n",
    "        \n",
    "Step2:State significance level:\n",
    "    Significance level (α). It is not given in the problem and hence taking it as 5% (0.05).    \n",
    "    α=0.05\n",
    "    \n",
    "Step3: Identify Test Statistic: \n",
    "    𝜇=48,432\n",
    "    𝜎 = 2000\n",
    "    X̄=$48,574\n",
    "    n=400\n",
    "    \n",
    "    \n",
    " z= (48574-48432) / (2000/√400)= 1.42\n",
    " \n",
    "Step4: Determine P-value:\n",
    "        p=P(z>1.42to z<-1.42)=0.1556\n",
    " \n",
    "Critical value of z = ±1.96 for a two tailed test with significance level 0.05\n",
    "\n",
    "\n",
    "Step5: Compare P-value to Significance level:\n",
    "        0.1556>0.05.\n",
    "        Hence cannot Reject H0"
   ]
  },
  {
   "cell_type": "markdown",
   "metadata": {},
   "source": [
    "***"
   ]
  },
  {
   "cell_type": "markdown",
   "metadata": {},
   "source": [
    "## Problem Statement 6: \n",
    " \n",
    "Suppose that in past years the average price per square foot for warehouses in the United States has been $32.28. A national real estate investor wants to determine whether that figure has changed now. The investor hires a researcher who randomly samples 19 warehouses that are for sale across the United States and finds that the mean price per square foot is 31.67, with a standard deviation of 1.29. assume that the prices of warehouse footage are normally distributed in population. If the researcher uses a 5% level of significance, what statistical conclusion can be reached? What are the hypotheses? "
   ]
  },
  {
   "cell_type": "markdown",
   "metadata": {},
   "source": [
    "Step1: \n",
    "    Develop a Hypothesis \n",
    "            H0:  μ = 32.28\n",
    "            H1:  μ ≠ 32.28\n",
    "Step2:State significance level:\n",
    "        Significance level (α) is not given in the problem as 5% (0.05).\n",
    "    \n",
    "    α=0.05\n",
    "    \n",
    "     \n",
    "Step3: Identify Test Statistic: \n",
    "    𝜇=32.28\n",
    "    𝜎 =1.29\n",
    "    X̄=31.67\n",
    "    n=19\n",
    "    \n",
    "    \n",
    " z= (31.67-32.28) / (1.29/√19)= -2.06\n",
    " \n",
    "Step4: Determine P-value:\n",
    "        p=P(z<-2.06to z>-2.06)=0.0394\n",
    " \n",
    " Critical value of z = ±1.96 for a two tailed test with significance level 0.05\n",
    "\n",
    "\n",
    "Step-5: Compare P-value to Significance level:\n",
    "        0.0394<0.05.\n",
    "        Hence Reject H0.Hence the average price per square foot for warehouses in the United States has changed now."
   ]
  },
  {
   "cell_type": "markdown",
   "metadata": {},
   "source": [
    "***"
   ]
  },
  {
   "cell_type": "markdown",
   "metadata": {},
   "source": [
    "## Problem Statement 7: \n",
    " \n",
    "Fill in the blank spaces in the table and draw your conclusions from it. \n",
    "\n",
    "         AcceptanceRegion\tSample\t∝\tβ at μ=52\tβ at μ=50.5\n",
    "             48.5<x̄<51.5\t    10\t\t\t\n",
    "             48<x̄<52\t        10\t\t\t\n",
    "             48.8<x̄<51.9\t    16\t\t\t\n",
    "            48.42<x̄<51.58\t   16\t\t\t\n",
    "\n"
   ]
  },
  {
   "cell_type": "code",
   "execution_count": 1,
   "metadata": {},
   "outputs": [
    {
     "data": {
      "text/html": [
       "<div>\n",
       "<style scoped>\n",
       "    .dataframe tbody tr th:only-of-type {\n",
       "        vertical-align: middle;\n",
       "    }\n",
       "\n",
       "    .dataframe tbody tr th {\n",
       "        vertical-align: top;\n",
       "    }\n",
       "\n",
       "    .dataframe thead th {\n",
       "        text-align: right;\n",
       "    }\n",
       "</style>\n",
       "<table border=\"1\" class=\"dataframe\">\n",
       "  <thead>\n",
       "    <tr style=\"text-align: right;\">\n",
       "      <th></th>\n",
       "      <th>Acceptance Region</th>\n",
       "      <th>Sample</th>\n",
       "    </tr>\n",
       "  </thead>\n",
       "  <tbody>\n",
       "    <tr>\n",
       "      <th>1</th>\n",
       "      <td>48.5&lt;x̄&lt;51.5</td>\n",
       "      <td>10</td>\n",
       "    </tr>\n",
       "    <tr>\n",
       "      <th>2</th>\n",
       "      <td>48&lt;x̄&lt;52</td>\n",
       "      <td>10</td>\n",
       "    </tr>\n",
       "    <tr>\n",
       "      <th>3</th>\n",
       "      <td>48.8&lt;x̄&lt;51.9</td>\n",
       "      <td>16</td>\n",
       "    </tr>\n",
       "    <tr>\n",
       "      <th>4</th>\n",
       "      <td>48.42&lt;x̄&lt;51.58</td>\n",
       "      <td>16</td>\n",
       "    </tr>\n",
       "  </tbody>\n",
       "</table>\n",
       "</div>"
      ],
      "text/plain": [
       "  Acceptance Region  Sample\n",
       "1      48.5<x̄<51.5      10\n",
       "2          48<x̄<52      10\n",
       "3      48.8<x̄<51.9      16\n",
       "4    48.42<x̄<51.58      16"
      ]
     },
     "execution_count": 1,
     "metadata": {},
     "output_type": "execute_result"
    }
   ],
   "source": [
    "import pandas as pd\n",
    "data = {'Acceptance Region':['48.5<x̄<51.5', '48<x̄<52', '48.8<x̄<51.9', '48.42<x̄<51.58'],'Sample':[10,10,16,16]}\n",
    "df=pd.DataFrame(data)\n",
    "df.index = df.index + 1  \n",
    "df"
   ]
  },
  {
   "cell_type": "markdown",
   "metadata": {},
   "source": [
    "### Calculating  ∝ values for each of the above acceptance regions:\n",
    "\n",
    "#### 1.  48.5<x̄<51.5\t;μ=50, n=10,s= 2.5\n",
    "\n",
    "∝ = P(x̄<48.50 when μ=50)+P(x̄>51.50 when μ=50) \n",
    "\n",
    "s/sqrt(n)=2.5/sqrt(10)=0.79\n",
    "\n",
    "z1=(48.5-50/(2.5/sqrt(10))=(-1.90)=0.028717\n",
    "z2=(51.5-50/(2.5/sqrt(10))=(1.90)=1-0.9706=0.028717\n",
    "P(48.5<x̄<51.5)=0.028917+0.028917=0.057434\n",
    "\n",
    "#### ∝= P(z< -1.90)+P(z>1.90)=0.057434\n",
    "\n",
    "#### 2.  48<x̄<52\t\t;μ=50, n=10,s= 2.5\n",
    "∝ =P(z<48)=(48-50/(2.5/sqrt(10))=-2.53\n",
    "P(z>51.50)=(52-50/(2.5/sqrt(10))=2.53\n",
    "∝ = P(z< -2.53) + P(z>2.53)\n",
    "∝=0.005703+0.005703=0.011406\n",
    "\n",
    "#### ∝= P(z< -2.53)+P(z>2.53)=0.011406\n",
    "\n",
    "#### 3.  48.8<x̄<51.9\t\t\t;μ=50, n=16,s= 2.5\n",
    "\n",
    "s= 2.5/sqrt(16)=2.5/4=0.625\n",
    "∝ =P(z<48.8)=(48.8-50/(2.5/sqrt(16))=-1.92\n",
    "P(z>51.9)=(51.9-50/(2.5/sqrt(16))=3.04\n",
    "∝ = P(z< -1.92) + P(z>3.04)\n",
    "P(z< -1.92)=0.027429\n",
    "P(z>3.04)=0.001183\n",
    "∝=0.027429+0.001183=0.028612\n",
    "\n",
    "#### ∝= P(z< -1.92)+P(z>3.04)=0.028612\n",
    "\n",
    "#### 4.  48.42<x̄<51.58\t\t\t\t;μ=50, n=16,s= 2.5\n",
    "\n",
    "s= 2.5/sqrt(16)=2.5/4=0.625\n",
    "∝ =P(z<48.42)=(48.42-50/(2.5/sqrt(16))=-2.53\n",
    "P(z>51.9)=(51.58-50/(2.5/sqrt(16))=2.53\n",
    "∝ = P(z< -2.53) + P(z>2.53)\n",
    "P(z< -2.53)=0.005703\n",
    "P(z>2.53)=0.005703\n",
    "∝=0.005703+0.005703=0.011406\n",
    "\n",
    "#### ∝= P(z< -2.53) + P(z>2.53)=0.011406\n"
   ]
  },
  {
   "cell_type": "code",
   "execution_count": 2,
   "metadata": {},
   "outputs": [
    {
     "data": {
      "text/html": [
       "<div>\n",
       "<style scoped>\n",
       "    .dataframe tbody tr th:only-of-type {\n",
       "        vertical-align: middle;\n",
       "    }\n",
       "\n",
       "    .dataframe tbody tr th {\n",
       "        vertical-align: top;\n",
       "    }\n",
       "\n",
       "    .dataframe thead th {\n",
       "        text-align: right;\n",
       "    }\n",
       "</style>\n",
       "<table border=\"1\" class=\"dataframe\">\n",
       "  <thead>\n",
       "    <tr style=\"text-align: right;\">\n",
       "      <th></th>\n",
       "      <th>Acceptance Region</th>\n",
       "      <th>Sample</th>\n",
       "      <th>∝</th>\n",
       "    </tr>\n",
       "  </thead>\n",
       "  <tbody>\n",
       "    <tr>\n",
       "      <th>1</th>\n",
       "      <td>48.5&lt;x̄&lt;51.5</td>\n",
       "      <td>10</td>\n",
       "      <td>0.057434</td>\n",
       "    </tr>\n",
       "    <tr>\n",
       "      <th>2</th>\n",
       "      <td>48&lt;x̄&lt;52</td>\n",
       "      <td>10</td>\n",
       "      <td>0.011406</td>\n",
       "    </tr>\n",
       "    <tr>\n",
       "      <th>3</th>\n",
       "      <td>48.8&lt;x̄&lt;51.9</td>\n",
       "      <td>16</td>\n",
       "      <td>0.028612</td>\n",
       "    </tr>\n",
       "    <tr>\n",
       "      <th>4</th>\n",
       "      <td>48.42&lt;x̄&lt;51.58</td>\n",
       "      <td>16</td>\n",
       "      <td>0.011406</td>\n",
       "    </tr>\n",
       "  </tbody>\n",
       "</table>\n",
       "</div>"
      ],
      "text/plain": [
       "  Acceptance Region  Sample         ∝\n",
       "1      48.5<x̄<51.5      10  0.057434\n",
       "2          48<x̄<52      10  0.011406\n",
       "3      48.8<x̄<51.9      16  0.028612\n",
       "4    48.42<x̄<51.58      16  0.011406"
      ]
     },
     "execution_count": 2,
     "metadata": {},
     "output_type": "execute_result"
    }
   ],
   "source": [
    "df['∝']=[0.057434,0.011406,0.028612,0.011406]\n",
    "df"
   ]
  },
  {
   "cell_type": "markdown",
   "metadata": {},
   "source": [
    "### Calculating  β at μ=52 for each of the above acceptance regions:\n",
    "\n",
    "#### 1.  48.5<x̄<51.5\t;μ=52, n=10,s= 2.5\n",
    "\n",
    "s/sqrt(n)=2.5/sqrt(10)=0.79\n",
    "\n",
    "z1=(48.5-52/(2.5/sqrt(10))=(-4.43)=0.00001\n",
    "z2=(51.5-52/(2.5/sqrt(10))=(-0.63)=0.264347\n",
    "β = P(-4.43<=z<=-0.63)= P(z<=-0.63)-P(z<=-4.43)=0.264347-0.00001\n",
    "β =0.264337\n",
    "\n",
    "\n",
    "#### β= P(z<=-0.63)-P(z<=-4.43)=0.264337\n",
    "\n",
    "#### 2.  48<x̄<52\t\t;μ=52, n=10,s= 2.5\n",
    "z1=P(z<48)=(48-52/(2.5/sqrt(10))=-5.06=0\n",
    "z2=P(z>52)=(52-52/(2.5/sqrt(10))=0=0.5\n",
    "β = P(-5.06<=z<=0)= P(z<=0)-P(z<=-5.06)=0.5-0\n",
    "β = 0.5\n",
    "\n",
    "#### β=  P(z<=0)-P(z<=-5.06)=0.5\n",
    "\n",
    "#### 3.  48.8<x̄<51.9\t\t\t;μ=50, n=16,s= 2.5\n",
    "\n",
    "s= 2.5/sqrt(16)=2.5/4=0.625\n",
    "\n",
    "z1 =P(z<48.8)=(48.8-52/(2.5/sqrt(16))=-5.12=0\n",
    "z2=P(z>51.9)=(51.9-52/(2.5/sqrt(16))=0.16=0.436441\n",
    "\n",
    "β = P(-5.12<=z<=-0.16)= P(z<=-0.16)-P(z<=-5.12)=0.436441-0\n",
    "β = 0.436441\n",
    "\n",
    "#### β=  P(z<=-0.16)-P(z<=-5.12)=0.436441\n",
    "\n",
    "\n",
    "#### 4.  48.42<x̄<51.58\t\t\t\t;μ=50, n=16,s= 2.5\n",
    "\n",
    "s= 2.5/sqrt(16)=2.5/4=0.625\n",
    "\n",
    "z1 =P(z<48.42)=(48.42-52/(2.5/sqrt(16))=-5.78=0\n",
    "z2=P(z>51.9)=(51.58-52/(2.5/sqrt(16))=0.63=0.250792\n",
    "\n",
    "β = P(-5.78<=z<=-0.63)= P(z<=-0.63)-P(z<=-5.78)=0.250792-0\n",
    "β = 0.250792\n",
    "\n",
    "#### ∝= P(z<=-0.63)-P(z<=-5.78)=0.250792\n"
   ]
  },
  {
   "cell_type": "code",
   "execution_count": 3,
   "metadata": {},
   "outputs": [
    {
     "data": {
      "text/html": [
       "<div>\n",
       "<style scoped>\n",
       "    .dataframe tbody tr th:only-of-type {\n",
       "        vertical-align: middle;\n",
       "    }\n",
       "\n",
       "    .dataframe tbody tr th {\n",
       "        vertical-align: top;\n",
       "    }\n",
       "\n",
       "    .dataframe thead th {\n",
       "        text-align: right;\n",
       "    }\n",
       "</style>\n",
       "<table border=\"1\" class=\"dataframe\">\n",
       "  <thead>\n",
       "    <tr style=\"text-align: right;\">\n",
       "      <th></th>\n",
       "      <th>Acceptance Region</th>\n",
       "      <th>Sample</th>\n",
       "      <th>∝</th>\n",
       "      <th>β at μ=52</th>\n",
       "    </tr>\n",
       "  </thead>\n",
       "  <tbody>\n",
       "    <tr>\n",
       "      <th>1</th>\n",
       "      <td>48.5&lt;x̄&lt;51.5</td>\n",
       "      <td>10</td>\n",
       "      <td>0.057434</td>\n",
       "      <td>0.264337</td>\n",
       "    </tr>\n",
       "    <tr>\n",
       "      <th>2</th>\n",
       "      <td>48&lt;x̄&lt;52</td>\n",
       "      <td>10</td>\n",
       "      <td>0.011406</td>\n",
       "      <td>0.500000</td>\n",
       "    </tr>\n",
       "    <tr>\n",
       "      <th>3</th>\n",
       "      <td>48.8&lt;x̄&lt;51.9</td>\n",
       "      <td>16</td>\n",
       "      <td>0.028612</td>\n",
       "      <td>0.436441</td>\n",
       "    </tr>\n",
       "    <tr>\n",
       "      <th>4</th>\n",
       "      <td>48.42&lt;x̄&lt;51.58</td>\n",
       "      <td>16</td>\n",
       "      <td>0.011406</td>\n",
       "      <td>0.250792</td>\n",
       "    </tr>\n",
       "  </tbody>\n",
       "</table>\n",
       "</div>"
      ],
      "text/plain": [
       "  Acceptance Region  Sample         ∝  β at μ=52\n",
       "1      48.5<x̄<51.5      10  0.057434   0.264337\n",
       "2          48<x̄<52      10  0.011406   0.500000\n",
       "3      48.8<x̄<51.9      16  0.028612   0.436441\n",
       "4    48.42<x̄<51.58      16  0.011406   0.250792"
      ]
     },
     "execution_count": 3,
     "metadata": {},
     "output_type": "execute_result"
    }
   ],
   "source": [
    "df['β at μ=52']=[0.264337,0.5,0.436441,0.250792]\n",
    "df"
   ]
  },
  {
   "cell_type": "markdown",
   "metadata": {},
   "source": [
    "### Calculating  β at μ=50.5 for each of the above acceptance regions:\n",
    "\n",
    "#### 1.  48.5<x̄<51.5\t;μ=50.5, n=10,s= 2.5\n",
    "\n",
    "s/sqrt(n)=2.5/sqrt(10)=0.79\n",
    "\n",
    "z1=(48.5-50.5/(2.5/sqrt(10))=(-2.53)=0.005703\n",
    "z2=(51.5-50.5/(2.5/sqrt(10))=(1.27)==1-0.102042=0.897958\n",
    "β = P(-2.53<=z<=1.27)=P(z<=1.27)-P(z<=-2.53)=0.897958-0.005703=0.892255\n",
    "\n",
    "β =0.892255\n",
    "\n",
    "\n",
    "\n",
    "#### β=P(z<=1.27)-P(z<=-2.53)=0.892255\n",
    "\n",
    "#### 2.  48<x̄<52\t\t;μ=52, n=10,s= 2.5\n",
    "z1=P(z<48)=(48-50.5/(2.5/sqrt(10))=-3.16=0.000789\n",
    "z2=P(z>52)=(52-50.5/(2.5/sqrt(10))=1.90=0.971283\n",
    "β = P(-3.16<=z<=1.90)=P(z<=1.90)-P(z<=-3.16)=0.971283-0.000789\n",
    "β = 0.970494\n",
    "\n",
    "\n",
    "#### β=   P(z<=1.90)-P(z<=-3.16)=0.970494\n",
    "\n",
    "#### 3.  48.8<x̄<51.9\t\t\t;μ=50, n=16,s= 2.5\n",
    "\n",
    "s= 2.5/sqrt(16)=2.5/4=0.625\n",
    "\n",
    "z1 =P(z<48.8)=(48.8-50.5/(2.5/sqrt(16))=-2.72=0.003264\n",
    "z2=P(z>51.9)=(51.9-50.5/(2.5/sqrt(16))=2.24=0.987455\n",
    "\n",
    "β = P(-2.72<=z<=2.24)=P(z<=2.24)-P(z<=-2.72)=0.687455-0.003264\n",
    "β = 0.984191\n",
    "\n",
    "\n",
    "#### β=  P(z<=2.24)-P(z<=-2.72)=0.984191\n",
    "\n",
    "\n",
    "#### 4.  48.42<x̄<51.58\t\t\t\t;μ=50, n=16,s= 2.5\n",
    "\n",
    "s= 2.5/sqrt(16)=2.5/4=0.625\n",
    "\n",
    "z1 =P(z<48.42)=(48.42-50.5/(2.5/sqrt(16))=-3.33=0.000437\n",
    "z2=P(z>51.9)=(51.58-50.5/(2.5/sqrt(16))=1.73=0.958006\n",
    "\n",
    "β = P(-3.33<=z<=1.73)=P(z<=1.73)-P(z<=-3.33)=0.958006-0.000437\n",
    "β =0.957569\n",
    "\n",
    "\n",
    "#### ∝= P(z<=1.73)-P(z<=-3.33)=0.957569\n"
   ]
  },
  {
   "cell_type": "code",
   "execution_count": 4,
   "metadata": {},
   "outputs": [
    {
     "data": {
      "text/html": [
       "<div>\n",
       "<style scoped>\n",
       "    .dataframe tbody tr th:only-of-type {\n",
       "        vertical-align: middle;\n",
       "    }\n",
       "\n",
       "    .dataframe tbody tr th {\n",
       "        vertical-align: top;\n",
       "    }\n",
       "\n",
       "    .dataframe thead th {\n",
       "        text-align: right;\n",
       "    }\n",
       "</style>\n",
       "<table border=\"1\" class=\"dataframe\">\n",
       "  <thead>\n",
       "    <tr style=\"text-align: right;\">\n",
       "      <th></th>\n",
       "      <th>Acceptance Region</th>\n",
       "      <th>Sample</th>\n",
       "      <th>∝</th>\n",
       "      <th>β at μ=52</th>\n",
       "      <th>β at μ=50.5</th>\n",
       "    </tr>\n",
       "  </thead>\n",
       "  <tbody>\n",
       "    <tr>\n",
       "      <th>1</th>\n",
       "      <td>48.5&lt;x̄&lt;51.5</td>\n",
       "      <td>10</td>\n",
       "      <td>0.057434</td>\n",
       "      <td>0.264337</td>\n",
       "      <td>0.892255</td>\n",
       "    </tr>\n",
       "    <tr>\n",
       "      <th>2</th>\n",
       "      <td>48&lt;x̄&lt;52</td>\n",
       "      <td>10</td>\n",
       "      <td>0.011406</td>\n",
       "      <td>0.500000</td>\n",
       "      <td>0.970494</td>\n",
       "    </tr>\n",
       "    <tr>\n",
       "      <th>3</th>\n",
       "      <td>48.8&lt;x̄&lt;51.9</td>\n",
       "      <td>16</td>\n",
       "      <td>0.028612</td>\n",
       "      <td>0.436441</td>\n",
       "      <td>0.984191</td>\n",
       "    </tr>\n",
       "    <tr>\n",
       "      <th>4</th>\n",
       "      <td>48.42&lt;x̄&lt;51.58</td>\n",
       "      <td>16</td>\n",
       "      <td>0.011406</td>\n",
       "      <td>0.250792</td>\n",
       "      <td>0.957569</td>\n",
       "    </tr>\n",
       "  </tbody>\n",
       "</table>\n",
       "</div>"
      ],
      "text/plain": [
       "  Acceptance Region  Sample         ∝  β at μ=52  β at μ=50.5\n",
       "1      48.5<x̄<51.5      10  0.057434   0.264337     0.892255\n",
       "2          48<x̄<52      10  0.011406   0.500000     0.970494\n",
       "3      48.8<x̄<51.9      16  0.028612   0.436441     0.984191\n",
       "4    48.42<x̄<51.58      16  0.011406   0.250792     0.957569"
      ]
     },
     "execution_count": 4,
     "metadata": {},
     "output_type": "execute_result"
    }
   ],
   "source": [
    "df['β at μ=50.5']=[0.892255,0.970494,0.984191,0.957569]\n",
    "df"
   ]
  },
  {
   "cell_type": "markdown",
   "metadata": {},
   "source": [
    "*** "
   ]
  },
  {
   "cell_type": "markdown",
   "metadata": {},
   "source": [
    "### Problem Statement 8:\n",
    "Find the t-score for a sample size of 16 taken from a population with mean 10 when the sample mean is 12 and the sample standard deviation is 1.5."
   ]
  },
  {
   "cell_type": "markdown",
   "metadata": {},
   "source": [
    "***"
   ]
  },
  {
   "cell_type": "markdown",
   "metadata": {},
   "source": [
    "\n",
    "Test statistic:\n",
    "t- score is calculated as \n",
    " t= (x̄-μ)/(s/√n)\n",
    "     x̄ = sample mean \n",
    "    μ0 = population mean \n",
    "    s = sample standard deviation \n",
    "    n = sample size\n",
    " \n",
    " Degrees of freedom - the number of observations in a data set that are free to change without changing the mean. For a single group test 𝑑𝑓 = 𝑁 − 1 For 2-group tests 𝑑𝑓 = 𝑁1 + 𝑁2 − 2  \n",
    "\n",
    "Assumption: The differences are treated as a random sample from a normal distribution.\n",
    "\n",
    "We reject H0 if the t value falls in the rejection region which is based on the significance level α\n",
    "and n − 1 degrees of freedom.\n",
    "\n",
    "\n",
    "t= (12-10)/(1.5/√16)\n",
    "\n",
    "t= 5.33\n"
   ]
  },
  {
   "cell_type": "markdown",
   "metadata": {},
   "source": [
    "***"
   ]
  },
  {
   "cell_type": "markdown",
   "metadata": {},
   "source": [
    "### Problem Statement 9:\n",
    "Find the t-score below which we can expect 99% of sample means will fall if samples\n",
    "of size 16 are taken from a normally distributed population."
   ]
  },
  {
   "cell_type": "markdown",
   "metadata": {},
   "source": [
    "***"
   ]
  },
  {
   "cell_type": "markdown",
   "metadata": {},
   "source": [
    " Degrees of freedom - the number of observations in a data set that are free to change without changing the mean. For a single group test 𝑑𝑓 = 𝑁 − 1 .The sample size is 16 and hence the degree of freedon, df=16-1=15\n",
    " \n",
    "    1 − 𝛼 = 0.99\n",
    " \n",
    "    𝛼 = 0.01 \n",
    "    \n",
    "    𝑑𝑓 = 𝑛 − 1 \n",
    "    𝑡(0.99) = −𝑡(0.01) \n",
    "    𝑑𝑓 = 15\n",
    "    \n",
    "    𝑡(0.99) = −𝑡(0.01) = −2.602"
   ]
  },
  {
   "cell_type": "markdown",
   "metadata": {},
   "source": [
    "***"
   ]
  },
  {
   "cell_type": "markdown",
   "metadata": {},
   "source": [
    "### Problem Statement 10:\n",
    "If a random sample of size 25 drawn from a normal population gives a mean of 60 and a standard deviation of 4, find the range of t-scores where we can expect to find the middle 95% of all sample means. Compute the probability that (−𝑡0.05 <𝑡<𝑡0.10)."
   ]
  },
  {
   "cell_type": "markdown",
   "metadata": {},
   "source": [
    "***"
   ]
  },
  {
   "cell_type": "markdown",
   "metadata": {},
   "source": [
    "##### Test statistic:\n",
    "t- score is calculated as \n",
    " t= (x̄-μ)/(s/√n)\n",
    "    x̄ = sample mean =60\n",
    "    s = sample standard deviation=4 \n",
    "    n = sample size=25\n",
    "    \n",
    "Since t0.01 leaves an area of 0.01 to the right, and − t0.05 an area of 0.05 to the left,we ﬁnd the total area to be \n",
    "1 − 0.01 − 0.05 = 0.985 between −t0.005and t0.01. Hence,P (−t0.05<T <t0.01)=0.985.\n"
   ]
  },
  {
   "cell_type": "markdown",
   "metadata": {},
   "source": [
    "***"
   ]
  },
  {
   "cell_type": "markdown",
   "metadata": {},
   "source": [
    "### Problem Statement 11:\n",
    "Two-tailed test for difference between two population means.Is there evidence to conclude that the number of people travelling from Bangalore to Chennai is different from the number of people travelling from Bangalore to Hosur in a week, given the following:\n",
    "\n",
    "Population 1: Bangalore to Chennai \n",
    "\n",
    "        n1 = 1200\n",
    "        x1 = 452\n",
    "        s1 = 212\n",
    "\n",
    "Population 2: Bangalore to Hosur \n",
    "\n",
    "        n2 = 800\n",
    "        x2 = 523\n",
    "        s2 = 185\n"
   ]
  },
  {
   "cell_type": "markdown",
   "metadata": {},
   "source": [
    "***"
   ]
  },
  {
   "cell_type": "markdown",
   "metadata": {},
   "source": [
    "The solution to this problem takes four steps: (1) state the hypotheses, (2) formulate an analysis plan, (3) analyze sample data, and (4) interpret results."
   ]
  },
  {
   "cell_type": "markdown",
   "metadata": {},
   "source": [
    "Step1: The first step is to state the null hypothesis and an alternative hypothesis\n",
    "\n",
    "        Null hypothesis: μ1 - μ2 =0\n",
    "\n",
    "        Alternative hypothesis: μ1 - μ2 ≠0\n",
    "\n",
    "Step2: Formulate an analysis plan. \n",
    "    \n",
    "    For this analysis, the significance level is not given.Hence we assume the significance level as 0.05(5%).The sample size is greater than 30,so using sample data, we will conduct a two-sample z-test of the null hypothesis.\n",
    "    \n",
    "    \n",
    "    \n",
    "Step3: Analyze sample data. \n",
    "\n",
    "    Using sample data, we compute the standard error (SE)\n",
    "    \n",
    "    SE = sqrt[(s1**2/n1) + (s2***2/n2)] \n",
    "    where s1 is the standard deviation of sample 1, s2 is the standard deviation of sample 2, \n",
    "    n1 is the size of sample 1, and n2 is the size of sample 2.\n",
    "    \n",
    "    n1 = 1200,x1 = 452,s1 = 212; n2 = 800, x2 = 523, s2 = 185\n",
    "\n",
    "    SE = sqrt[((212)** 2/1200)) + ((185)**2/ 800))] = sqrt(37.453 + 42.781)=sqrt(80.235)\n",
    "\n",
    "    SE = sqrt(80.235) = 8.957\n",
    "\n",
    "\n",
    "    z = [ (x1 - x2) - (μ1-μ2) ] / SE where (μ1-μ2) is the hypothesised value for the difference in the two population means\n",
    "    \n",
    "    z= [ (452 - 523) - 0 ] / 8.957 = -7/3.51 = -7.926\n",
    "    \n",
    "     Critical value of z = ±1.96 for a two tailed test with significance level 0.05\n",
    "\n",
    "margin_of_error = z_critical * (SE)\n",
    "confidence_interval = (x1-x2) - margin_of_error, (x1-x2)+ margin_of_error\n",
    "confidence_interval= (-88.55613419493457, -53.44386580506542)\n",
    "    \n",
    "Step4: Interpret results\n",
    "\n",
    "The z-value falls in the left-hand rejection region for any commonly used 𝛼, and the p value is very small. Therefore, we conclude that the number of people travelling from Bangalore to Chennai is different from the number of people travelling from Bangalore to Hosur in a week.\n",
    "\n"
   ]
  },
  {
   "cell_type": "code",
   "execution_count": 5,
   "metadata": {},
   "outputs": [
    {
     "name": "stdout",
     "output_type": "stream",
     "text": [
      "z-critical value: 1.959963984540054\n",
      "z=  -7.926428526759299\n",
      "p-value associated is  1.1276917667853246e-15\n",
      "Confidence interval: (-88.55613419493457, -53.44386580506542)\n",
      "We reject null hypothesis and conclude that the number of people travelling from Bangalore to Chennai is different from the number of people travelling from Bangalore to Hosur in a week\n"
     ]
    }
   ],
   "source": [
    "#Using stats doing Hypothesis testing\n",
    "\n",
    "import numpy as np\n",
    "import pandas as pd\n",
    "import math\n",
    "from math import sqrt\n",
    "import statistics as stat\n",
    "from scipy import stats\n",
    "sample_mean = 452-523\n",
    "pop_mean=0\n",
    "confidence = 0.95\n",
    "stdev = sqrt(((212)** 2/1200) + ((185)**2/ 800))\n",
    "\n",
    "def Zscore(sample_mean, pop_mean, stdev):\n",
    "    return (sample_mean - pop_mean)/stdev\n",
    "\n",
    "\n",
    "z_critical = stats.norm.ppf(q = confidence + (1 - confidence) / 2)\n",
    "print('z-critical value:', z_critical)                     \n",
    "\n",
    "\n",
    "z = Zscore(sample_mean, pop_mean, stdev)\n",
    "print(\"z= \",z)\n",
    "p= stats.norm.cdf(z)\n",
    "print(\"p-value associated is \",p)\n",
    "margin_of_error = z_critical * (stdev)\n",
    "confint = sample_mean - margin_of_error, sample_mean + margin_of_error\n",
    "print('Confidence interval:', confint)\n",
    "if p <0.05:\n",
    "    print(\"We reject null hypothesis and conclude that the number of people travelling from Bangalore to Chennai is different from the number of people travelling from Bangalore to Hosur in a week\")\n",
    "else:\n",
    "    print(\"we accept null hypothesis\")\n"
   ]
  },
  {
   "cell_type": "markdown",
   "metadata": {},
   "source": [
    "***"
   ]
  },
  {
   "cell_type": "markdown",
   "metadata": {},
   "source": [
    "### Problem Statement 12:\n",
    "Is there evidence to conclude that the number of people preferring Duracell battery is different from the number of people preferring Energizer battery, given the following:\n",
    "\n",
    "Population 1: Duracell\n",
    "\n",
    "    n1 = 100\n",
    "    x1 = 308\n",
    "    s1 = 84\n",
    "\n",
    "Population 2: Energizer\n",
    "\n",
    "    n2 = 100\n",
    "    x2 = 254\n",
    "    s2 = 67\n"
   ]
  },
  {
   "cell_type": "markdown",
   "metadata": {},
   "source": [
    "Step1: The first step is to state the null hypothesis and an alternative hypothesis\n",
    "\n",
    "        Null hypothesis: μ1 = μ2\n",
    "\n",
    "        Alternative hypothesis: μ1 ≠ μ2\n",
    "\n",
    "Step2: Formulate an analysis plan. \n",
    "    \n",
    "    For this analysis, the significance level is not given.Hence we assume the significance level as 0.05(5%).The sample size is greater than 30,so using sample data, we will conduct a two-sample z-test of the null hypothesis.\n",
    "    \n",
    "    \n",
    "    \n",
    "Step3: Analyze sample data. \n",
    "\n",
    "    Using sample data, we compute the standard error (SE)\n",
    "    \n",
    "    SE = sqrt[(s1**2/n1) + (s2***2/n2)] \n",
    "    where s1 is the standard deviation of sample 1, s2 is the standard deviation of sample 2, \n",
    "    n1 is the size of sample 1, and n2 is the size of sample 2.\n",
    "    \n",
    "    n1 = 100,x1 = 308,s1 = 84; n2 =100, x2 = 254, s2 = 67\n",
    "\n",
    "    SE = sqrt[((84)** 2/100)) + ((67)**2/ 100))] \n",
    "\n",
    "    SE =10.74\n",
    "\n",
    "\n",
    "    z = [ (x1 - x2) -  ] / SE = [ (308 - 254) - 0 ] / 10.74 =5.025\n",
    "    \n",
    "Step4: Interpret results\n",
    "\n",
    "    The z-value falls in the right-hand rejection region for any commonly used 𝛼, and the p value is very small.Therefore, we conclude that the number of people preferring Duracell battery is different from the number of people preferring Energizer battery."
   ]
  },
  {
   "cell_type": "code",
   "execution_count": 6,
   "metadata": {},
   "outputs": [
    {
     "name": "stdout",
     "output_type": "stream",
     "text": [
      "z-critical value: 1.959963984540054\n",
      "z=  5.025702668336442\n",
      "p-value associated is  0.9999997492037371\n",
      "Confidence interval: (32.94064528887134, 75.05935471112866)\n",
      "We do not reject null hypothesis and conclude that the number of people preferring Duracell battery is not different from the number of people preferring Energizer battery\n"
     ]
    }
   ],
   "source": [
    "#Using stats doing Hypothesis testing\n",
    "\n",
    "import numpy as np\n",
    "import pandas as pd\n",
    "import math\n",
    "from math import sqrt\n",
    "import statistics as stat\n",
    "from scipy import stats\n",
    "sample_mean = 308-254\n",
    "pop_mean=0\n",
    "confidence = 0.95\n",
    "stdev = sqrt(((84)** 2/100) + ((67)**2/ 100)) \n",
    "\n",
    "def Zscore(sample_mean, pop_mean, stdev):\n",
    "    return (sample_mean - pop_mean)/stdev\n",
    "\n",
    "\n",
    "z_critical = stats.norm.ppf(q = confidence + (1 - confidence) / 2)\n",
    "print('z-critical value:', z_critical)                     \n",
    "\n",
    "\n",
    "z = Zscore(sample_mean, pop_mean, stdev)\n",
    "print(\"z= \",z)\n",
    "p= stats.norm.cdf(z)\n",
    "print(\"p-value associated is \",p)\n",
    "margin_of_error = z_critical * (stdev)\n",
    "confint = sample_mean - margin_of_error, sample_mean + margin_of_error\n",
    "print('Confidence interval:', confint)\n",
    "if p <0.05:\n",
    "    print(\"We reject null hypothesis\")\n",
    "else:\n",
    "    print(\"We do not reject null hypothesis and conclude that the number of people preferring Duracell battery is not different from the number of people preferring Energizer battery\")\n"
   ]
  },
  {
   "cell_type": "markdown",
   "metadata": {},
   "source": [
    "***"
   ]
  },
  {
   "cell_type": "markdown",
   "metadata": {},
   "source": [
    "### Problem Statement 13:\n",
    "Pooled estimate of the population variance\n",
    "Does the data provide sufficient evidence to conclude that average percentage increase in the price of sugar differs when it is sold at two different prices?\n",
    "\n",
    "Population 1: Price of sugar = Rs. 27.50\n",
    "    \n",
    "    n1 = 14\n",
    "    x1 = 0.317%\n",
    "    s1 = 0.12%\n",
    "\n",
    "Population 2: Price of sugar = Rs. 20.00\n",
    "\n",
    "    n2 = 9\n",
    "    x2 = 0.21%\n",
    "    s2 = 0.11%"
   ]
  },
  {
   "cell_type": "markdown",
   "metadata": {},
   "source": [
    "***"
   ]
  },
  {
   "cell_type": "markdown",
   "metadata": {},
   "source": [
    "Step1: The first step is to state the null hypothesis and an alternative hypothesis\n",
    "\n",
    "        Null hypothesis: μ1 - μ2 =0\n",
    "\n",
    "        Alternative hypothesis: μ1 - μ2 ≠ 0\n",
    "\n",
    "Step2: Formulate an analysis plan. \n",
    "    \n",
    "    For this analysis, the significance level is not given.Hence we assume the significance level as 0.05(5%).Using t-statistics to test the sample.\n",
    "    \n",
    "     n1 = 14,x1 = 0.317,s1 = 0.12; n2 =9, x2 = 0.21, s2 = 0.11\n",
    "    \n",
    "    \n",
    "Step3: Analyze sample data. \n",
    "\n",
    "   Standardized Test Statistic for Hypothesis Tests Concerning the Difference Between Two Population Means: Small, Independent Samples\n",
    "   \n",
    "  t=(x1−x2)−D0/sqrt(s**2/(1/n1+1/n2))\n",
    "                \n",
    "       where s**2=(n1−1)s1**2+(n2−1)s2**2/n1+n2−2\n",
    "\n",
    "The test statistic has Student’s t-distribution with df=n1+n2−2 degrees of freedom.\n",
    "\n",
    "The samples must be independent, the populations must be normal, and the population standard deviations must be equal. “Small” samples means that either n1<30 or n2<30.\n",
    "\n",
    "    s=sqrt((((13)(0.12)**2)+((8)(0.11)**2)/21)((1/14)+(1/9)))=0.049685\n",
    "\n",
    "    t = (0.317-0.21-0)/s=0.107/0.049685\n",
    "    t=2.154\n",
    "    \n",
    "    Critical value associated with 5% significance level and 21 degree of freedom is 2.080\n",
    "Step4: Interpret results\n",
    "\n",
    "  The t-value falls in the right hand rejection region but not far from 2.080.  The p-value is therefore just less than 0.05.Hence we reject the null hypothesis and conclude that average percentage increase in the price of sugar does not differ when it is sold at two different prices "
   ]
  },
  {
   "cell_type": "code",
   "execution_count": 7,
   "metadata": {},
   "outputs": [
    {
     "name": "stdout",
     "output_type": "stream",
     "text": [
      "Degrees of freedom=  21\n",
      "t_stat=2.154 \n",
      "Critical t-value=2.080\n",
      "p= 0.043\n",
      "Confidence interval: 0.004 to 0.210\n",
      "Conclusion:\n",
      "Accept null hypothesis that the means are equal  and conclude that average percentage increase in the price of sugar  slightly differ when it is sold at two different prices \n"
     ]
    }
   ],
   "source": [
    "#Prooving our hypothesis using stats\n",
    "from scipy.stats import t\n",
    "from scipy import stats\n",
    "\n",
    "n1 = 14\n",
    "x1 = 0.317\n",
    "s1 = 0.12\n",
    "n2 =9\n",
    "x2 = 0.21\n",
    "s2 = 0.11\n",
    "alpha=0.025\n",
    "df = (n1+n2)-2\n",
    "print(\"Degrees of freedom= \",df)\n",
    "se =0.049685\n",
    "t_stat = (x1 - x2) / se\n",
    "print(\"t_stat={:.3f} \".format(t_stat))\n",
    "cv = t.ppf(1-alpha,df)\n",
    "print(\"Critical t-value={:.3f}\".format(cv))\n",
    "# calculate the p-value\n",
    "p = (1 - t.cdf(abs(t_stat), df)) * 2\n",
    "print(\"p= {:.3f}\".format(p))\n",
    "margin_of_error = cv * (se)\n",
    "confint = (x1-x2) - margin_of_error, (x1-x2)+ margin_of_error\n",
    "print('Confidence interval: {:.3f} to {:.3f}'.format((x1-x2) - margin_of_error, (x1-x2)+ margin_of_error))\n",
    "print(\"Conclusion:\")\n",
    "if p < 0.05:\n",
    "    print('Accept null hypothesis that the means are equal  and conclude that average percentage increase in the price of sugar  slightly differ when it is sold at two different prices ')\n",
    "else:\n",
    "    print('Reject the null hypothesis that the means are equal.')\n"
   ]
  },
  {
   "cell_type": "markdown",
   "metadata": {},
   "source": [
    "***"
   ]
  },
  {
   "cell_type": "markdown",
   "metadata": {},
   "source": [
    "### Problem Statement 14:\n",
    "The manufacturers of compact disk players want to test whether a small price reduction is enough to increase sales of their product. Is there evidence that the small price reduction is enough to increase sales of compact disk players?\n",
    "\n",
    "Population 1: Before reduction\n",
    "\n",
    "    n1 = 15\n",
    "    x1 = Rs. 6598\n",
    "    s1 = Rs. 844\n",
    "    \n",
    "Population 2: After reduction \n",
    "    \n",
    "    n2 = 12\n",
    "    x2 = RS. 6870\n",
    "    s2 = Rs. 669\n"
   ]
  },
  {
   "cell_type": "markdown",
   "metadata": {},
   "source": [
    "***"
   ]
  },
  {
   "cell_type": "raw",
   "metadata": {},
   "source": [
    "Step1: The first step is to state the null hypothesis and an alternative hypothesis\n",
    "\n",
    "        Null hypothesis: μ1 - μ2 ≥ 0\n",
    "        \n",
    "        Alternative hypothesis: μ1 - μ2 <0\n",
    "\n",
    "\n",
    "Step2: Formulate an analysis plan. \n",
    "    \n",
    "    For this analysis, the significance level is not given.Hence we assume the significance level as 0.05(5%).Considering as 0.025 since being teo-tailed.Using t-statistics to test the sample.\n",
    "    \n",
    "     n1 = 15, x1 = Rs. 6598, s1 = Rs. 844; n2 = 12, x2 = RS. 6870, s2 = Rs. 669\n",
    "    \n",
    "Step3: Analyze sample data. \n",
    "\n",
    "   Standardized Test Statistic for Hypothesis Tests Concerning the Difference Between Two Population Means: Small, Independent Samples\n",
    "   \n",
    "  t=(x1−x2)−D0/sqrt(s**2/(1/n1+1/n2))\n",
    "                \n",
    "       where s**2=(n1−1)s1**2+(n2−1)s2**2/n1+n2−2\n",
    "\n",
    "The test statistic has Student’s t-distribution with df=n1+n2−2 degrees of freedom.\n",
    "        \n",
    "        df= 15+12-2=25\n",
    "\n",
    "The samples must be independent, the populations must be normal, and the population standard deviations must be equal. “Small” samples means that either n1<30 or n2<30.\n",
    "\n",
    "    s=sqrt((((14)(844)**2)+((11)(669)**2)/21)((1/15)+(1/12)))=298.97\n",
    "\n",
    "    t = (6598-6870)/s=-272/298.97\n",
    "    t=0.91\n",
    "    \n",
    "    Critical value associated with 5% significance level and 25 degree of freedom is 2.060\n",
    "Step4: Interpret results\n",
    "    Here the t-value is less than the t-critical value of 2.060\n",
    "    Accept null hypothesis that the means are equal and state the small price reduction is enough to increase sales of compact disk players\n",
    " "
   ]
  },
  {
   "cell_type": "code",
   "execution_count": 8,
   "metadata": {},
   "outputs": [
    {
     "name": "stdout",
     "output_type": "stream",
     "text": [
      "Degrees of freedom=  25\n",
      "t_stat=-0.910 \n",
      "Critical t-value=2.060\n",
      "p= 0.372\n",
      "Confidence interval: -887.740 to 343.740\n",
      "Conclusion:\n",
      "Accept null hypothesis that the means are equal and state the small price reduction is enough to increase sales of compact disk players\n"
     ]
    }
   ],
   "source": [
    "#Prooving our hypothesis using stats\n",
    "from scipy.stats import t\n",
    "from scipy import stats\n",
    "\n",
    "n1 = 15\n",
    "x1 = 6598\n",
    "s1 = 844\n",
    "n2 = 12\n",
    "x2 = 6870\n",
    "s2 = 669\n",
    "#t=(x1−x2)−D0/sqrt(s**2/(1/n1+1/n2))\n",
    "#where s**2=(n1−1)s1**2+(n2−1)s2**2/n1+n2−2\n",
    "alpha=0.025\n",
    "df = (n1+n2)-2\n",
    "print(\"Degrees of freedom= \",df)\n",
    "se =298.97 \n",
    "t_stat = (x1 - x2) / se\n",
    "print(\"t_stat={:.3f} \".format(t_stat))\n",
    "cv = t.ppf(1-alpha,df)\n",
    "print(\"Critical t-value={:.3f}\".format(cv))\n",
    "# calculate the p-value\n",
    "p = (1 - t.cdf(abs(t_stat), df))* 2 \n",
    "print(\"p= {:.3f}\".format(p))\n",
    "margin_of_error = cv * (se)\n",
    "confint = (x1-x2) - margin_of_error, (x1-x2)+ margin_of_error\n",
    "print('Confidence interval: {:.3f} to {:.3f}'.format((x1-x2) - margin_of_error, (x1-x2)+ margin_of_error))\n",
    "print(\"Conclusion:\")\n",
    "\n",
    "if t_stat<=cv:\n",
    "    print('Accept null hypothesis that the means are equal and state the small price reduction is enough to increase sales of compact disk players')\n",
    "else:\n",
    "    print('Reject the null hypothesis that the means are equal')"
   ]
  },
  {
   "cell_type": "markdown",
   "metadata": {},
   "source": [
    "***"
   ]
  },
  {
   "cell_type": "markdown",
   "metadata": {},
   "source": [
    "### Problem Statement 15:\n",
    "Comparisons of two population proportions when the hypothesized difference is zero Carry out a two-tailed test of the equality of banks’ share of the car loan market in\n",
    "1980 and 1995.\n",
    "\n",
    "Population 1: 1980\n",
    "\n",
    "    n1 = 1000\n",
    "    x1 = 53\n",
    "    𝑝 1 = 0.53\n",
    "\n",
    "Population 2: 1985\n",
    "\n",
    "    n2 = 100\n",
    "    x2 = 43\n",
    "    𝑝 2= 0.53\n"
   ]
  },
  {
   "cell_type": "markdown",
   "metadata": {},
   "source": [
    "***"
   ]
  },
  {
   "cell_type": "markdown",
   "metadata": {},
   "source": [
    "The test statistic for the difference between two population proportions where the null hypothesis difference is zero is:\n",
    "    \n",
    "    z = (p̂1-p̂2-0)/sqrt(p̂(1-p̂)(1/n1+1/n2))\n",
    "    \n",
    "    where p̂1 = x1/n1 is the sample proportion in sample 1 and p̂2 = x2/n2 is the sample proprtion in sample 2. \n",
    "    p̂ is the combined sample proportion in both samples,considered as a single sample\n",
    "    \n",
    "    p̂ = (x1 + x2)/(n1 + n2)\n",
    "\n",
    "\n",
    "Step1: The first step is to state the null hypothesis and an alternative hypothesis\n",
    "\n",
    "        Null hypothesis: p1-p2 = 0\n",
    "        \n",
    "        Alternative hypothesis: p1-p2 ≠ 0\n",
    "\n",
    "\n",
    "Step2: Formulate an analysis plan. \n",
    "    \n",
    "    This is a two-tailed test of the equality of two population proportions. The significance level is not given.Hence we assume the significance level as 0.05(5%).\n",
    "    \n",
    "    n1 = 1000\n",
    "    x1 = 53\n",
    "    p̂1 = 0.53\n",
    "    n2 = 100\n",
    "    x2 = 43\n",
    "    p̂2= 0.53\n",
    "\n",
    "    \n",
    "Step3: Analyze sample data. \n",
    "\n",
    "   A large-sample test for the difference between two Population proportions\n",
    "   \n",
    "       p̂ = x1+x2 / n1 + n2 = 0.0872   \n",
    "       1-p̂=  0.9127\n",
    "       \n",
    "       z = (0.43 - 0.53)/sqrt((0.0872*0.9217)(1/1000 +1/100)) = -0.1/0.0296=-3.378\n",
    "\n",
    "Step4: Interpret results\n",
    "The z-value falls in the left-hand rejection region for any commonly used 𝛼, and the p value is very small.Hence we reject he null hypothesis\n",
    "\n",
    "       "
   ]
  },
  {
   "cell_type": "code",
   "execution_count": 9,
   "metadata": {},
   "outputs": [
    {
     "name": "stdout",
     "output_type": "stream",
     "text": [
      "z-critical value: 1.959963984540054\n",
      "z=  -3.3783783783783794\n",
      "p-value associated is  0.0003645733881143146\n",
      "Confidence interval: (-0.15801493394238564, -0.04198506605761443)\n",
      "We reject null hypothesis\n"
     ]
    }
   ],
   "source": [
    "#Using stats doing Hypothesis testing\n",
    "\n",
    "import numpy as np\n",
    "import pandas as pd\n",
    "import math\n",
    "from math import sqrt\n",
    "import statistics as stat\n",
    "from scipy import stats\n",
    "sample_mean = 0.43-0.53\n",
    "pop_mean=0\n",
    "confidence = 0.95\n",
    "#stdev = sqrt((0.0872*0.9217)(1/1000 +1/100))\n",
    "stdev=0.0296\n",
    "\n",
    "def Zscore(sample_mean, pop_mean, stdev):\n",
    "    return (sample_mean - pop_mean)/stdev\n",
    "\n",
    "\n",
    "z_critical = stats.norm.ppf(q = confidence + (1 - confidence) / 2)\n",
    "print('z-critical value:', z_critical)                     \n",
    "\n",
    "\n",
    "z = Zscore(sample_mean, pop_mean, stdev)\n",
    "print(\"z= \",z)\n",
    "p= stats.norm.cdf(z)\n",
    "print(\"p-value associated is \",p)\n",
    "margin_of_error = z_critical * (stdev)\n",
    "confint = sample_mean - margin_of_error, sample_mean + margin_of_error\n",
    "print('Confidence interval:', confint)\n",
    "if p <0.05:\n",
    "    print(\"We reject null hypothesis\")\n",
    "else:\n",
    "    print(\"We do not reject null hypothesis\")\n"
   ]
  },
  {
   "cell_type": "markdown",
   "metadata": {},
   "source": [
    "### Problem Statement 16:  \n",
    " \n",
    "Carry out a one-tailed test to determine whether the population proportion of traveler’s check buyers who buy at least $2500 in checks when sweepstakes prizes are offered as at least 10% higher than the proportion of such buyers when no sweepstakes are on. \n",
    "\n",
    "Population 1: With sweepstakes \n",
    "   \n",
    "       n1 = 300 \n",
    "       x1 = 120 \n",
    "       𝑝1= 0.40 \n",
    "\n",
    "Population 2: No sweepstakes \n",
    "    \n",
    "    n2 = 700 \n",
    "    x2 = 140 \n",
    "    𝑝2= 0.20 \n",
    " \n",
    " "
   ]
  },
  {
   "cell_type": "markdown",
   "metadata": {},
   "source": [
    "The test statistic for the difference between two population proportions where the null hypothesis difference is zero is:\n",
    "    \n",
    "    z = (p̂1-p̂2-0)/sqrt((p̂1(1-p̂1)/n1)+(p̂2(1-p̂2)/n2))\n",
    "    \n",
    "Step1: The first step is to state the null hypothesis and an alternative hypothesis\n",
    "\n",
    "        Null hypothesis: p1-p2 <= 0.1\n",
    "        \n",
    "        Alternative hypothesis: p1-p2 > 0.1\n",
    "\n",
    "\n",
    "Step2: Formulate an analysis plan. \n",
    "    \n",
    "    This is a one-tailed test for differences in population proportions.The significance level is not given.Hence we assume the significance level as 0.1(10%).\n",
    "    \n",
    "    n1 = 300 \n",
    "    x1 = 120 \n",
    "    p̂1 = 0.40\n",
    "    n2 = 700 \n",
    "    x2 = 140 \n",
    "    p̂2= 0.20\n",
    "\n",
    "    \n",
    "Step3: Analyze sample data. \n",
    "\n",
    "   A large-sample test for the difference between two Population proportions\n",
    "   \n",
    "       z = (0.4 - 0.2)/sqrt(((0.4*0.6)/300)+((0.2*0.8)/700))) = 0.2/0.032071=6.236\n",
    "      Considering significance level of 5%, the critical value=1.96\n",
    "\n",
    "Step4: Interpret results\n",
    "The z-value falls in the right-hand rejection region for any commonly used 𝛼, and the p value is very small.Hence we fail to reject the null hypothesis\n",
    "\n",
    "       "
   ]
  },
  {
   "cell_type": "code",
   "execution_count": 10,
   "metadata": {},
   "outputs": [
    {
     "name": "stdout",
     "output_type": "stream",
     "text": [
      "z-critical value:1.960\n",
      "z=  6.23616351220729\n",
      "p-value associated is 1.000\n",
      "Confidence interval: 0.137 - 0.263\n",
      "We do not reject null hypothesis\n"
     ]
    }
   ],
   "source": [
    "#Using stats doing Hypothesis testing\n",
    "\n",
    "import numpy as np\n",
    "import pandas as pd\n",
    "import math\n",
    "from math import sqrt\n",
    "import statistics as stat\n",
    "from scipy import stats\n",
    "mean = 0.4-0.2\n",
    "pop_mean=0\n",
    "confidence = 0.95\n",
    "#z = (p̂1-p̂2)/sqrt((p̂1(1-p̂1)/n1)+(p̂2(1-p̂2)/n2))\n",
    "z = mean/sqrt(((0.4*0.6)/300)+((0.2*0.8)/700)) \n",
    "#stdev = sqrt((0.0872*0.9217)(1/1000 +1/100))\n",
    "stdev=0.032071\n",
    "\n",
    "def Zscore(mean, pop_mean, stdev):\n",
    "    return (mean - pop_mean)/stdev\n",
    "\n",
    "\n",
    "z_critical = stats.norm.ppf(q = confidence + (1 - confidence) / 2)\n",
    "print('z-critical value:{:.3f}'.format(z_critical))\n",
    "\n",
    "\n",
    "z = Zscore(mean, pop_mean, stdev)\n",
    "print(\"z= \",z)\n",
    "p= stats.norm.cdf(z)\n",
    "print(\"p-value associated is {:.3f}\".format(p))\n",
    "margin_of_error = z_critical * (stdev)\n",
    "confint = mean - margin_of_error, mean + margin_of_error\n",
    "print('Confidence interval: {:.3f} - {:.3f}'.format(mean - margin_of_error, mean + margin_of_error))\n",
    "if p <0.05:\n",
    "    print(\"We reject null hypothesis\")\n",
    "else:\n",
    "    print(\"We do not reject null hypothesis\")\n"
   ]
  },
  {
   "cell_type": "markdown",
   "metadata": {},
   "source": [
    "### Problem Statement 17:  \n",
    " \n",
    "A die is thrown 132 times with the following results: Number turned up: 1, 2, 3, 4, 5, 6 Frequency: 16, 20, 25, 14, 29, 28 Is the die unbiased? Consider the degrees of freedom as 𝑝  −  . "
   ]
  },
  {
   "cell_type": "code",
   "execution_count": 11,
   "metadata": {},
   "outputs": [
    {
     "data": {
      "text/html": [
       "<div>\n",
       "<style scoped>\n",
       "    .dataframe tbody tr th:only-of-type {\n",
       "        vertical-align: middle;\n",
       "    }\n",
       "\n",
       "    .dataframe tbody tr th {\n",
       "        vertical-align: top;\n",
       "    }\n",
       "\n",
       "    .dataframe thead th {\n",
       "        text-align: right;\n",
       "    }\n",
       "</style>\n",
       "<table border=\"1\" class=\"dataframe\">\n",
       "  <thead>\n",
       "    <tr style=\"text-align: right;\">\n",
       "      <th></th>\n",
       "      <th>Numbers turned up</th>\n",
       "      <th>Frequency</th>\n",
       "    </tr>\n",
       "  </thead>\n",
       "  <tbody>\n",
       "    <tr>\n",
       "      <th>0</th>\n",
       "      <td>1</td>\n",
       "      <td>16</td>\n",
       "    </tr>\n",
       "    <tr>\n",
       "      <th>1</th>\n",
       "      <td>2</td>\n",
       "      <td>20</td>\n",
       "    </tr>\n",
       "    <tr>\n",
       "      <th>2</th>\n",
       "      <td>3</td>\n",
       "      <td>25</td>\n",
       "    </tr>\n",
       "    <tr>\n",
       "      <th>3</th>\n",
       "      <td>4</td>\n",
       "      <td>14</td>\n",
       "    </tr>\n",
       "    <tr>\n",
       "      <th>4</th>\n",
       "      <td>5</td>\n",
       "      <td>29</td>\n",
       "    </tr>\n",
       "    <tr>\n",
       "      <th>5</th>\n",
       "      <td>6</td>\n",
       "      <td>28</td>\n",
       "    </tr>\n",
       "  </tbody>\n",
       "</table>\n",
       "</div>"
      ],
      "text/plain": [
       "   Numbers turned up  Frequency\n",
       "0                  1         16\n",
       "1                  2         20\n",
       "2                  3         25\n",
       "3                  4         14\n",
       "4                  5         29\n",
       "5                  6         28"
      ]
     },
     "execution_count": 11,
     "metadata": {},
     "output_type": "execute_result"
    }
   ],
   "source": [
    "data = {'Numbers turned up':[1,2,3,4,5,6], \n",
    "       'Frequency': [16,20,25,14,29,28]} \n",
    "data = pd.DataFrame(data)\n",
    "data"
   ]
  },
  {
   "cell_type": "code",
   "execution_count": 12,
   "metadata": {},
   "outputs": [
    {
     "data": {
      "text/html": [
       "<div>\n",
       "<style scoped>\n",
       "    .dataframe tbody tr th:only-of-type {\n",
       "        vertical-align: middle;\n",
       "    }\n",
       "\n",
       "    .dataframe tbody tr th {\n",
       "        vertical-align: top;\n",
       "    }\n",
       "\n",
       "    .dataframe thead th {\n",
       "        text-align: right;\n",
       "    }\n",
       "</style>\n",
       "<table border=\"1\" class=\"dataframe\">\n",
       "  <thead>\n",
       "    <tr style=\"text-align: right;\">\n",
       "      <th></th>\n",
       "      <th>Frequency</th>\n",
       "    </tr>\n",
       "    <tr>\n",
       "      <th>Numbers turned up</th>\n",
       "      <th></th>\n",
       "    </tr>\n",
       "  </thead>\n",
       "  <tbody>\n",
       "    <tr>\n",
       "      <th>1</th>\n",
       "      <td>16</td>\n",
       "    </tr>\n",
       "    <tr>\n",
       "      <th>2</th>\n",
       "      <td>20</td>\n",
       "    </tr>\n",
       "    <tr>\n",
       "      <th>3</th>\n",
       "      <td>25</td>\n",
       "    </tr>\n",
       "    <tr>\n",
       "      <th>4</th>\n",
       "      <td>14</td>\n",
       "    </tr>\n",
       "    <tr>\n",
       "      <th>5</th>\n",
       "      <td>29</td>\n",
       "    </tr>\n",
       "    <tr>\n",
       "      <th>6</th>\n",
       "      <td>28</td>\n",
       "    </tr>\n",
       "  </tbody>\n",
       "</table>\n",
       "</div>"
      ],
      "text/plain": [
       "                   Frequency\n",
       "Numbers turned up           \n",
       "1                         16\n",
       "2                         20\n",
       "3                         25\n",
       "4                         14\n",
       "5                         29\n",
       "6                         28"
      ]
     },
     "execution_count": 12,
     "metadata": {},
     "output_type": "execute_result"
    }
   ],
   "source": [
    "data.set_index('Numbers turned up',inplace=True)\n",
    "data"
   ]
  },
  {
   "cell_type": "code",
   "execution_count": 13,
   "metadata": {},
   "outputs": [
    {
     "data": {
      "text/plain": [
       "132"
      ]
     },
     "execution_count": 13,
     "metadata": {},
     "output_type": "execute_result"
    }
   ],
   "source": [
    "data.Frequency.values.sum()"
   ]
  },
  {
   "cell_type": "code",
   "execution_count": 14,
   "metadata": {},
   "outputs": [],
   "source": [
    "data['Observed']=data.Frequency"
   ]
  },
  {
   "cell_type": "markdown",
   "metadata": {},
   "source": [
    "Considering the  die is unbiased, the probability of getting each number will be 132/6. Setting the Null hypothesis as the die is unbiased."
   ]
  },
  {
   "cell_type": "code",
   "execution_count": 15,
   "metadata": {},
   "outputs": [],
   "source": [
    "data['expected']=int(132/6)"
   ]
  },
  {
   "cell_type": "code",
   "execution_count": 16,
   "metadata": {},
   "outputs": [
    {
     "data": {
      "text/html": [
       "<div>\n",
       "<style scoped>\n",
       "    .dataframe tbody tr th:only-of-type {\n",
       "        vertical-align: middle;\n",
       "    }\n",
       "\n",
       "    .dataframe tbody tr th {\n",
       "        vertical-align: top;\n",
       "    }\n",
       "\n",
       "    .dataframe thead th {\n",
       "        text-align: right;\n",
       "    }\n",
       "</style>\n",
       "<table border=\"1\" class=\"dataframe\">\n",
       "  <thead>\n",
       "    <tr style=\"text-align: right;\">\n",
       "      <th></th>\n",
       "      <th>Frequency</th>\n",
       "      <th>Observed</th>\n",
       "      <th>expected</th>\n",
       "    </tr>\n",
       "    <tr>\n",
       "      <th>Numbers turned up</th>\n",
       "      <th></th>\n",
       "      <th></th>\n",
       "      <th></th>\n",
       "    </tr>\n",
       "  </thead>\n",
       "  <tbody>\n",
       "    <tr>\n",
       "      <th>1</th>\n",
       "      <td>16</td>\n",
       "      <td>16</td>\n",
       "      <td>22</td>\n",
       "    </tr>\n",
       "    <tr>\n",
       "      <th>2</th>\n",
       "      <td>20</td>\n",
       "      <td>20</td>\n",
       "      <td>22</td>\n",
       "    </tr>\n",
       "    <tr>\n",
       "      <th>3</th>\n",
       "      <td>25</td>\n",
       "      <td>25</td>\n",
       "      <td>22</td>\n",
       "    </tr>\n",
       "    <tr>\n",
       "      <th>4</th>\n",
       "      <td>14</td>\n",
       "      <td>14</td>\n",
       "      <td>22</td>\n",
       "    </tr>\n",
       "    <tr>\n",
       "      <th>5</th>\n",
       "      <td>29</td>\n",
       "      <td>29</td>\n",
       "      <td>22</td>\n",
       "    </tr>\n",
       "    <tr>\n",
       "      <th>6</th>\n",
       "      <td>28</td>\n",
       "      <td>28</td>\n",
       "      <td>22</td>\n",
       "    </tr>\n",
       "  </tbody>\n",
       "</table>\n",
       "</div>"
      ],
      "text/plain": [
       "                   Frequency  Observed  expected\n",
       "Numbers turned up                               \n",
       "1                         16        16        22\n",
       "2                         20        20        22\n",
       "3                         25        25        22\n",
       "4                         14        14        22\n",
       "5                         29        29        22\n",
       "6                         28        28        22"
      ]
     },
     "execution_count": 16,
     "metadata": {},
     "output_type": "execute_result"
    }
   ],
   "source": [
    "data"
   ]
  },
  {
   "cell_type": "code",
   "execution_count": 17,
   "metadata": {},
   "outputs": [
    {
     "data": {
      "text/html": [
       "<div>\n",
       "<style scoped>\n",
       "    .dataframe tbody tr th:only-of-type {\n",
       "        vertical-align: middle;\n",
       "    }\n",
       "\n",
       "    .dataframe tbody tr th {\n",
       "        vertical-align: top;\n",
       "    }\n",
       "\n",
       "    .dataframe thead th {\n",
       "        text-align: right;\n",
       "    }\n",
       "</style>\n",
       "<table border=\"1\" class=\"dataframe\">\n",
       "  <thead>\n",
       "    <tr style=\"text-align: right;\">\n",
       "      <th></th>\n",
       "      <th>Frequency</th>\n",
       "      <th>Observed</th>\n",
       "      <th>expected</th>\n",
       "      <th>(O - E)**2</th>\n",
       "    </tr>\n",
       "    <tr>\n",
       "      <th>Numbers turned up</th>\n",
       "      <th></th>\n",
       "      <th></th>\n",
       "      <th></th>\n",
       "      <th></th>\n",
       "    </tr>\n",
       "  </thead>\n",
       "  <tbody>\n",
       "    <tr>\n",
       "      <th>1</th>\n",
       "      <td>16</td>\n",
       "      <td>16</td>\n",
       "      <td>22</td>\n",
       "      <td>36</td>\n",
       "    </tr>\n",
       "    <tr>\n",
       "      <th>2</th>\n",
       "      <td>20</td>\n",
       "      <td>20</td>\n",
       "      <td>22</td>\n",
       "      <td>4</td>\n",
       "    </tr>\n",
       "    <tr>\n",
       "      <th>3</th>\n",
       "      <td>25</td>\n",
       "      <td>25</td>\n",
       "      <td>22</td>\n",
       "      <td>9</td>\n",
       "    </tr>\n",
       "    <tr>\n",
       "      <th>4</th>\n",
       "      <td>14</td>\n",
       "      <td>14</td>\n",
       "      <td>22</td>\n",
       "      <td>64</td>\n",
       "    </tr>\n",
       "    <tr>\n",
       "      <th>5</th>\n",
       "      <td>29</td>\n",
       "      <td>29</td>\n",
       "      <td>22</td>\n",
       "      <td>49</td>\n",
       "    </tr>\n",
       "    <tr>\n",
       "      <th>6</th>\n",
       "      <td>28</td>\n",
       "      <td>28</td>\n",
       "      <td>22</td>\n",
       "      <td>36</td>\n",
       "    </tr>\n",
       "  </tbody>\n",
       "</table>\n",
       "</div>"
      ],
      "text/plain": [
       "                   Frequency  Observed  expected  (O - E)**2\n",
       "Numbers turned up                                           \n",
       "1                         16        16        22          36\n",
       "2                         20        20        22           4\n",
       "3                         25        25        22           9\n",
       "4                         14        14        22          64\n",
       "5                         29        29        22          49\n",
       "6                         28        28        22          36"
      ]
     },
     "execution_count": 17,
     "metadata": {},
     "output_type": "execute_result"
    }
   ],
   "source": [
    "data[('(O - E)**2')]=(data.Observed-data.expected)**2\n",
    "data"
   ]
  },
  {
   "cell_type": "code",
   "execution_count": 18,
   "metadata": {},
   "outputs": [
    {
     "data": {
      "text/html": [
       "<div>\n",
       "<style scoped>\n",
       "    .dataframe tbody tr th:only-of-type {\n",
       "        vertical-align: middle;\n",
       "    }\n",
       "\n",
       "    .dataframe tbody tr th {\n",
       "        vertical-align: top;\n",
       "    }\n",
       "\n",
       "    .dataframe thead th {\n",
       "        text-align: right;\n",
       "    }\n",
       "</style>\n",
       "<table border=\"1\" class=\"dataframe\">\n",
       "  <thead>\n",
       "    <tr style=\"text-align: right;\">\n",
       "      <th></th>\n",
       "      <th>Frequency</th>\n",
       "      <th>Observed</th>\n",
       "      <th>expected</th>\n",
       "      <th>(O - E)**2</th>\n",
       "      <th>((O-E)**2/E)</th>\n",
       "    </tr>\n",
       "    <tr>\n",
       "      <th>Numbers turned up</th>\n",
       "      <th></th>\n",
       "      <th></th>\n",
       "      <th></th>\n",
       "      <th></th>\n",
       "      <th></th>\n",
       "    </tr>\n",
       "  </thead>\n",
       "  <tbody>\n",
       "    <tr>\n",
       "      <th>1</th>\n",
       "      <td>16</td>\n",
       "      <td>16</td>\n",
       "      <td>22</td>\n",
       "      <td>36</td>\n",
       "      <td>1.636364</td>\n",
       "    </tr>\n",
       "    <tr>\n",
       "      <th>2</th>\n",
       "      <td>20</td>\n",
       "      <td>20</td>\n",
       "      <td>22</td>\n",
       "      <td>4</td>\n",
       "      <td>0.181818</td>\n",
       "    </tr>\n",
       "    <tr>\n",
       "      <th>3</th>\n",
       "      <td>25</td>\n",
       "      <td>25</td>\n",
       "      <td>22</td>\n",
       "      <td>9</td>\n",
       "      <td>0.409091</td>\n",
       "    </tr>\n",
       "    <tr>\n",
       "      <th>4</th>\n",
       "      <td>14</td>\n",
       "      <td>14</td>\n",
       "      <td>22</td>\n",
       "      <td>64</td>\n",
       "      <td>2.909091</td>\n",
       "    </tr>\n",
       "    <tr>\n",
       "      <th>5</th>\n",
       "      <td>29</td>\n",
       "      <td>29</td>\n",
       "      <td>22</td>\n",
       "      <td>49</td>\n",
       "      <td>2.227273</td>\n",
       "    </tr>\n",
       "    <tr>\n",
       "      <th>6</th>\n",
       "      <td>28</td>\n",
       "      <td>28</td>\n",
       "      <td>22</td>\n",
       "      <td>36</td>\n",
       "      <td>1.636364</td>\n",
       "    </tr>\n",
       "  </tbody>\n",
       "</table>\n",
       "</div>"
      ],
      "text/plain": [
       "                   Frequency  Observed  expected  (O - E)**2  ((O-E)**2/E)\n",
       "Numbers turned up                                                         \n",
       "1                         16        16        22          36      1.636364\n",
       "2                         20        20        22           4      0.181818\n",
       "3                         25        25        22           9      0.409091\n",
       "4                         14        14        22          64      2.909091\n",
       "5                         29        29        22          49      2.227273\n",
       "6                         28        28        22          36      1.636364"
      ]
     },
     "execution_count": 18,
     "metadata": {},
     "output_type": "execute_result"
    }
   ],
   "source": [
    "data['((O-E)**2/E)']=data.iloc[:,-1]/data.iloc[:,2]\n",
    "data"
   ]
  },
  {
   "cell_type": "code",
   "execution_count": 19,
   "metadata": {},
   "outputs": [],
   "source": [
    "chi_squared_stat=data['((O-E)**2/E)'].values.sum()"
   ]
  },
  {
   "cell_type": "markdown",
   "metadata": {},
   "source": [
    "Considering 5% level of significance, finding the table value of χ2  corresponding to 5 degrees of freedom"
   ]
  },
  {
   "cell_type": "code",
   "execution_count": 20,
   "metadata": {},
   "outputs": [
    {
     "name": "stdout",
     "output_type": "stream",
     "text": [
      "Degrees_of_freedom=  5\n",
      "Chi-Square Statistic= 9.000\n",
      "Critical value= 11.070\n",
      "P value= 0.109\n",
      "\n",
      "We reject the null Hypothesis. The calculated value of χ2 is less than the table value and hence there is no evidence against the hypothesis that die is unbiased.\n"
     ]
    }
   ],
   "source": [
    "import scipy.stats as stats\n",
    "n= 6\n",
    "df=n - 1\n",
    "print(\"Degrees_of_freedom= \",df)\n",
    "print(\"Chi-Square Statistic= {:.3f}\".format(chi_squared_stat))\n",
    "crit = stats.chi2.ppf(q = 0.95,df=5)   \n",
    "\n",
    "print(\"Critical value= {:.3f}\".format(crit))\n",
    "\n",
    "p_value = 1 - stats.chi2.cdf(x=chi_squared_stat,  # Find the p-value\n",
    "                             df=5)\n",
    "print(\"P value= {:.3f}\".format(p_value))\n",
    "if chi_squared_stat< crit:\n",
    "    print(\"\\nWe reject the null Hypothesis. The calculated value of χ2 is less than the table value and hence there is no evidence against the hypothesis that die is unbiased.\")\n",
    "    \n",
    "else:\n",
    "    print(\"We do not reject null hypothesis\")"
   ]
  },
  {
   "cell_type": "markdown",
   "metadata": {},
   "source": [
    "### Problem Statement 18:  \n",
    " \n",
    "In a certain town, there are about one million eligible voters. A simple random sample of 10,000 eligible voters was chosen to study the relationship between gender and participation in the last election. The results are summarized in the following 2X2 (read two by two) contingency table: \n",
    "\n",
    "                    Men        Women\n",
    "\n",
    "        Voted       2792       3591\n",
    "\n",
    "        Not voted   1486       2131\n",
    "        \n",
    " We would want to check whether being a man or a woman (columns) is independent of having voted in the last election (rows). In other words, is “gender and voting independent”? "
   ]
  },
  {
   "cell_type": "code",
   "execution_count": 21,
   "metadata": {},
   "outputs": [
    {
     "data": {
      "text/html": [
       "<div>\n",
       "<style scoped>\n",
       "    .dataframe tbody tr th:only-of-type {\n",
       "        vertical-align: middle;\n",
       "    }\n",
       "\n",
       "    .dataframe tbody tr th {\n",
       "        vertical-align: top;\n",
       "    }\n",
       "\n",
       "    .dataframe thead th {\n",
       "        text-align: right;\n",
       "    }\n",
       "</style>\n",
       "<table border=\"1\" class=\"dataframe\">\n",
       "  <thead>\n",
       "    <tr style=\"text-align: right;\">\n",
       "      <th></th>\n",
       "      <th>Men</th>\n",
       "      <th>Women</th>\n",
       "    </tr>\n",
       "  </thead>\n",
       "  <tbody>\n",
       "    <tr>\n",
       "      <th>Voted</th>\n",
       "      <td>2792</td>\n",
       "      <td>3591</td>\n",
       "    </tr>\n",
       "    <tr>\n",
       "      <th>Not Voted</th>\n",
       "      <td>1486</td>\n",
       "      <td>2131</td>\n",
       "    </tr>\n",
       "  </tbody>\n",
       "</table>\n",
       "</div>"
      ],
      "text/plain": [
       "            Men  Women\n",
       "Voted      2792   3591\n",
       "Not Voted  1486   2131"
      ]
     },
     "execution_count": 21,
     "metadata": {},
     "output_type": "execute_result"
    }
   ],
   "source": [
    "import numpy as np\n",
    "import pandas as pd\n",
    "df = pd.DataFrame(np.array([[2792,3591],[1486,2131]])\n",
    "                          ,columns=['Men','Women'])\n",
    "df.rename(index={0:'Voted',1:'Not Voted'}, inplace=True)\n",
    "df"
   ]
  },
  {
   "cell_type": "markdown",
   "metadata": {},
   "source": [
    "Step1: State the hypothesis\n",
    "    \n",
    "Null H0: Gender is independent of Voting\n",
    "\n",
    "Alternative H1: Gender and Voting are dependent"
   ]
  },
  {
   "cell_type": "code",
   "execution_count": 22,
   "metadata": {},
   "outputs": [
    {
     "data": {
      "text/plain": [
       "Men      4278\n",
       "Women    5722\n",
       "dtype: int64"
      ]
     },
     "execution_count": 22,
     "metadata": {},
     "output_type": "execute_result"
    }
   ],
   "source": [
    "df.sum(axis=0)"
   ]
  },
  {
   "cell_type": "code",
   "execution_count": 23,
   "metadata": {},
   "outputs": [
    {
     "data": {
      "text/html": [
       "<div>\n",
       "<style scoped>\n",
       "    .dataframe tbody tr th:only-of-type {\n",
       "        vertical-align: middle;\n",
       "    }\n",
       "\n",
       "    .dataframe tbody tr th {\n",
       "        vertical-align: top;\n",
       "    }\n",
       "\n",
       "    .dataframe thead th {\n",
       "        text-align: right;\n",
       "    }\n",
       "</style>\n",
       "<table border=\"1\" class=\"dataframe\">\n",
       "  <thead>\n",
       "    <tr style=\"text-align: right;\">\n",
       "      <th></th>\n",
       "      <th>Men</th>\n",
       "      <th>Women</th>\n",
       "      <th>Row_Total</th>\n",
       "    </tr>\n",
       "  </thead>\n",
       "  <tbody>\n",
       "    <tr>\n",
       "      <th>Voted</th>\n",
       "      <td>2792</td>\n",
       "      <td>3591</td>\n",
       "      <td>6383</td>\n",
       "    </tr>\n",
       "    <tr>\n",
       "      <th>Not Voted</th>\n",
       "      <td>1486</td>\n",
       "      <td>2131</td>\n",
       "      <td>3617</td>\n",
       "    </tr>\n",
       "  </tbody>\n",
       "</table>\n",
       "</div>"
      ],
      "text/plain": [
       "            Men  Women  Row_Total\n",
       "Voted      2792   3591       6383\n",
       "Not Voted  1486   2131       3617"
      ]
     },
     "execution_count": 23,
     "metadata": {},
     "output_type": "execute_result"
    }
   ],
   "source": [
    "df['Row_Total']=df.sum(axis=1)\n",
    "df"
   ]
  },
  {
   "cell_type": "code",
   "execution_count": 24,
   "metadata": {},
   "outputs": [],
   "source": [
    "df['Col_Total']=df.Men.sum(),df.Women.sum()"
   ]
  },
  {
   "cell_type": "code",
   "execution_count": 25,
   "metadata": {},
   "outputs": [
    {
     "data": {
      "text/html": [
       "<div>\n",
       "<style scoped>\n",
       "    .dataframe tbody tr th:only-of-type {\n",
       "        vertical-align: middle;\n",
       "    }\n",
       "\n",
       "    .dataframe tbody tr th {\n",
       "        vertical-align: top;\n",
       "    }\n",
       "\n",
       "    .dataframe thead th {\n",
       "        text-align: right;\n",
       "    }\n",
       "</style>\n",
       "<table border=\"1\" class=\"dataframe\">\n",
       "  <thead>\n",
       "    <tr style=\"text-align: right;\">\n",
       "      <th></th>\n",
       "      <th>Men</th>\n",
       "      <th>Women</th>\n",
       "      <th>Row_Total</th>\n",
       "      <th>Col_Total</th>\n",
       "    </tr>\n",
       "  </thead>\n",
       "  <tbody>\n",
       "    <tr>\n",
       "      <th>Voted</th>\n",
       "      <td>2792</td>\n",
       "      <td>3591</td>\n",
       "      <td>6383</td>\n",
       "      <td>4278</td>\n",
       "    </tr>\n",
       "    <tr>\n",
       "      <th>Not Voted</th>\n",
       "      <td>1486</td>\n",
       "      <td>2131</td>\n",
       "      <td>3617</td>\n",
       "      <td>5722</td>\n",
       "    </tr>\n",
       "  </tbody>\n",
       "</table>\n",
       "</div>"
      ],
      "text/plain": [
       "            Men  Women  Row_Total  Col_Total\n",
       "Voted      2792   3591       6383       4278\n",
       "Not Voted  1486   2131       3617       5722"
      ]
     },
     "execution_count": 25,
     "metadata": {},
     "output_type": "execute_result"
    }
   ],
   "source": [
    "df"
   ]
  },
  {
   "cell_type": "code",
   "execution_count": 26,
   "metadata": {},
   "outputs": [
    {
     "data": {
      "text/html": [
       "<div>\n",
       "<style scoped>\n",
       "    .dataframe tbody tr th:only-of-type {\n",
       "        vertical-align: middle;\n",
       "    }\n",
       "\n",
       "    .dataframe tbody tr th {\n",
       "        vertical-align: top;\n",
       "    }\n",
       "\n",
       "    .dataframe thead th {\n",
       "        text-align: right;\n",
       "    }\n",
       "</style>\n",
       "<table border=\"1\" class=\"dataframe\">\n",
       "  <thead>\n",
       "    <tr style=\"text-align: right;\">\n",
       "      <th></th>\n",
       "      <th>Men</th>\n",
       "      <th>Women</th>\n",
       "    </tr>\n",
       "  </thead>\n",
       "  <tbody>\n",
       "    <tr>\n",
       "      <th>Voted</th>\n",
       "      <td>2730.6474</td>\n",
       "      <td>3652.3526</td>\n",
       "    </tr>\n",
       "    <tr>\n",
       "      <th>Not Voted</th>\n",
       "      <td>1547.3526</td>\n",
       "      <td>2069.6474</td>\n",
       "    </tr>\n",
       "  </tbody>\n",
       "</table>\n",
       "</div>"
      ],
      "text/plain": [
       "                 Men      Women\n",
       "Voted      2730.6474  3652.3526\n",
       "Not Voted  1547.3526  2069.6474"
      ]
     },
     "execution_count": 26,
     "metadata": {},
     "output_type": "execute_result"
    }
   ],
   "source": [
    "expected =  np.outer(df[\"Row_Total\"][0:2],\n",
    "                     df[\"Col_Total\"][0:2]) / 10000\n",
    "\n",
    "expected = pd.DataFrame(expected)\n",
    "\n",
    "expected.columns = ['Men','Women']\n",
    "expected.index = [\"Voted\",\"Not Voted\"]\n",
    "\n",
    "expected"
   ]
  },
  {
   "cell_type": "markdown",
   "metadata": {},
   "source": [
    "The Chi-square table has (rows-1)*(cols-1) degrees of freedom. In the case of a 2x2 table, the number of degrees of freedom is (2-1)(2-1)=1*1=1. "
   ]
  },
  {
   "cell_type": "code",
   "execution_count": 27,
   "metadata": {},
   "outputs": [],
   "source": [
    "observed=df.iloc[0:2,0:2]"
   ]
  },
  {
   "cell_type": "code",
   "execution_count": 28,
   "metadata": {},
   "outputs": [
    {
     "name": "stdout",
     "output_type": "stream",
     "text": [
      "Degrees_of_freedom=  1\n",
      "Chi-Square Statistic= 6.660\n",
      "Critical value= 3.841\n",
      "P value= 0.010\n",
      "\n",
      "We reject the null Hypothesis and hence gender is independent of voting.\n"
     ]
    }
   ],
   "source": [
    "import scipy.stats as stats\n",
    "df=1\n",
    "chi_squared_stat = (((observed-expected)**2)/expected).sum().sum()\n",
    " #   We call .sum() twice: once to get the column sums an\n",
    "print(\"Degrees_of_freedom= \",df)\n",
    "print(\"Chi-Square Statistic= {:.3f}\".format(chi_squared_stat))\n",
    "crit = stats.chi2.ppf(q = 0.95,df=1)   \n",
    "\n",
    "print(\"Critical value= {:.3f}\".format(crit))\n",
    "\n",
    "p_value = 1 - stats.chi2.cdf(x=chi_squared_stat,  # Find the p-value\n",
    "                             df=1)\n",
    "print(\"P value= {:.3f}\".format(p_value))\n",
    "if p_value<0.05:\n",
    "    print(\"\\nWe reject the null Hypothesis and hence gender is independent of voting.\")\n",
    "    \n",
    "else:\n",
    "    print(\"We do not reject the null hypothesis.\")"
   ]
  },
  {
   "cell_type": "code",
   "execution_count": 29,
   "metadata": {},
   "outputs": [],
   "source": [
    "#### An alternate method to find the Critical value,p-vale and degrees of freedom using stats is as follows:\n"
   ]
  },
  {
   "cell_type": "code",
   "execution_count": 30,
   "metadata": {},
   "outputs": [
    {
     "data": {
      "text/plain": [
       "(6.552337973968181, 0.01047464310091866, 1, array([[2730.6474, 3652.3526],\n",
       "        [1547.3526, 2069.6474]]))"
      ]
     },
     "execution_count": 30,
     "metadata": {},
     "output_type": "execute_result"
    }
   ],
   "source": [
    "\n",
    "stats.chi2_contingency(observed= observed)"
   ]
  },
  {
   "cell_type": "code",
   "execution_count": 31,
   "metadata": {},
   "outputs": [
    {
     "data": {
      "text/plain": [
       "Power_divergenceResult(statistic=array([3.81111287, 2.84934303]), pvalue=array([0.05091361, 0.09141128]))"
      ]
     },
     "execution_count": 31,
     "metadata": {},
     "output_type": "execute_result"
    }
   ],
   "source": [
    "stats.chisquare(f_obs= observed,   # Array of observed counts\n",
    "                f_exp= expected)   # Array of expe"
   ]
  },
  {
   "cell_type": "code",
   "execution_count": 32,
   "metadata": {},
   "outputs": [],
   "source": [
    "#The above output shows the test statistic,the p-value of the test,Degrees of freedomand the expected frequencies"
   ]
  },
  {
   "cell_type": "markdown",
   "metadata": {},
   "source": [
    "### Problem Statement 19:  \n",
    "A sample of 100 voters are asked which of four candidates they would vote for in an election. The number supporting each candidate is given below: \n",
    "\n",
    "            Higgins   Reardon   White   Charlton\n",
    "            \n",
    "            41           19      24       16 \n",
    " \n",
    "Do the data suggest that all candidates are equally popular?  \n",
    "        [ Chi-Square = 14.96 , with 3 df, 𝑝< 0.05] \n",
    " "
   ]
  },
  {
   "cell_type": "markdown",
   "metadata": {},
   "source": [
    "Null hypothesis H0: Candidates are equally popular\n",
    "\n",
    "Alternate Hypothesis, H1: Preference for Candidate is there "
   ]
  },
  {
   "cell_type": "code",
   "execution_count": 33,
   "metadata": {},
   "outputs": [
    {
     "data": {
      "text/html": [
       "<div>\n",
       "<style scoped>\n",
       "    .dataframe tbody tr th:only-of-type {\n",
       "        vertical-align: middle;\n",
       "    }\n",
       "\n",
       "    .dataframe tbody tr th {\n",
       "        vertical-align: top;\n",
       "    }\n",
       "\n",
       "    .dataframe thead th {\n",
       "        text-align: right;\n",
       "    }\n",
       "</style>\n",
       "<table border=\"1\" class=\"dataframe\">\n",
       "  <thead>\n",
       "    <tr style=\"text-align: right;\">\n",
       "      <th></th>\n",
       "      <th>Observed</th>\n",
       "    </tr>\n",
       "  </thead>\n",
       "  <tbody>\n",
       "    <tr>\n",
       "      <th>Higgins</th>\n",
       "      <td>41</td>\n",
       "    </tr>\n",
       "    <tr>\n",
       "      <th>Reardon</th>\n",
       "      <td>19</td>\n",
       "    </tr>\n",
       "    <tr>\n",
       "      <th>White</th>\n",
       "      <td>24</td>\n",
       "    </tr>\n",
       "    <tr>\n",
       "      <th>Charlton</th>\n",
       "      <td>16</td>\n",
       "    </tr>\n",
       "  </tbody>\n",
       "</table>\n",
       "</div>"
      ],
      "text/plain": [
       "          Observed\n",
       "Higgins         41\n",
       "Reardon         19\n",
       "White           24\n",
       "Charlton        16"
      ]
     },
     "execution_count": 33,
     "metadata": {},
     "output_type": "execute_result"
    }
   ],
   "source": [
    "data=pd.DataFrame(np.array([[41],[19],[24],[16]]),columns=['Observed'])\n",
    "\n",
    "data.rename(index={0:'Higgins',1:'Reardon',2:'White',3:'Charlton'}, inplace=True)\n",
    "data"
   ]
  },
  {
   "cell_type": "code",
   "execution_count": 34,
   "metadata": {},
   "outputs": [
    {
     "name": "stdout",
     "output_type": "stream",
     "text": [
      "Total =  100\n",
      "Our expected frequencies = 100/4 = 25.0 per candidate.\n"
     ]
    }
   ],
   "source": [
    "Total=data.Observed.sum()\n",
    "print(\"Total = \",Total)\n",
    "print(\"Our expected frequencies = 100/4 = \"+str(100/4) +\" per candidate.\")"
   ]
  },
  {
   "cell_type": "code",
   "execution_count": 35,
   "metadata": {},
   "outputs": [
    {
     "data": {
      "text/html": [
       "<div>\n",
       "<style scoped>\n",
       "    .dataframe tbody tr th:only-of-type {\n",
       "        vertical-align: middle;\n",
       "    }\n",
       "\n",
       "    .dataframe tbody tr th {\n",
       "        vertical-align: top;\n",
       "    }\n",
       "\n",
       "    .dataframe thead th {\n",
       "        text-align: right;\n",
       "    }\n",
       "</style>\n",
       "<table border=\"1\" class=\"dataframe\">\n",
       "  <thead>\n",
       "    <tr style=\"text-align: right;\">\n",
       "      <th></th>\n",
       "      <th>Observed</th>\n",
       "      <th>Expected</th>\n",
       "    </tr>\n",
       "  </thead>\n",
       "  <tbody>\n",
       "    <tr>\n",
       "      <th>Higgins</th>\n",
       "      <td>41</td>\n",
       "      <td>25</td>\n",
       "    </tr>\n",
       "    <tr>\n",
       "      <th>Reardon</th>\n",
       "      <td>19</td>\n",
       "      <td>25</td>\n",
       "    </tr>\n",
       "    <tr>\n",
       "      <th>White</th>\n",
       "      <td>24</td>\n",
       "      <td>25</td>\n",
       "    </tr>\n",
       "    <tr>\n",
       "      <th>Charlton</th>\n",
       "      <td>16</td>\n",
       "      <td>25</td>\n",
       "    </tr>\n",
       "  </tbody>\n",
       "</table>\n",
       "</div>"
      ],
      "text/plain": [
       "          Observed  Expected\n",
       "Higgins         41        25\n",
       "Reardon         19        25\n",
       "White           24        25\n",
       "Charlton        16        25"
      ]
     },
     "execution_count": 35,
     "metadata": {},
     "output_type": "execute_result"
    }
   ],
   "source": [
    "data['Expected']= int(100/4)\n",
    "data"
   ]
  },
  {
   "cell_type": "code",
   "execution_count": 36,
   "metadata": {},
   "outputs": [
    {
     "data": {
      "text/html": [
       "<div>\n",
       "<style scoped>\n",
       "    .dataframe tbody tr th:only-of-type {\n",
       "        vertical-align: middle;\n",
       "    }\n",
       "\n",
       "    .dataframe tbody tr th {\n",
       "        vertical-align: top;\n",
       "    }\n",
       "\n",
       "    .dataframe thead th {\n",
       "        text-align: right;\n",
       "    }\n",
       "</style>\n",
       "<table border=\"1\" class=\"dataframe\">\n",
       "  <thead>\n",
       "    <tr style=\"text-align: right;\">\n",
       "      <th></th>\n",
       "      <th>Observed</th>\n",
       "      <th>Expected</th>\n",
       "      <th>(O - E)**2</th>\n",
       "    </tr>\n",
       "  </thead>\n",
       "  <tbody>\n",
       "    <tr>\n",
       "      <th>Higgins</th>\n",
       "      <td>41</td>\n",
       "      <td>25</td>\n",
       "      <td>256</td>\n",
       "    </tr>\n",
       "    <tr>\n",
       "      <th>Reardon</th>\n",
       "      <td>19</td>\n",
       "      <td>25</td>\n",
       "      <td>36</td>\n",
       "    </tr>\n",
       "    <tr>\n",
       "      <th>White</th>\n",
       "      <td>24</td>\n",
       "      <td>25</td>\n",
       "      <td>1</td>\n",
       "    </tr>\n",
       "    <tr>\n",
       "      <th>Charlton</th>\n",
       "      <td>16</td>\n",
       "      <td>25</td>\n",
       "      <td>81</td>\n",
       "    </tr>\n",
       "  </tbody>\n",
       "</table>\n",
       "</div>"
      ],
      "text/plain": [
       "          Observed  Expected  (O - E)**2\n",
       "Higgins         41        25         256\n",
       "Reardon         19        25          36\n",
       "White           24        25           1\n",
       "Charlton        16        25          81"
      ]
     },
     "execution_count": 36,
     "metadata": {},
     "output_type": "execute_result"
    }
   ],
   "source": [
    "data['(O - E)**2']=(data.Observed - data.Expected)**2\n",
    "data"
   ]
  },
  {
   "cell_type": "code",
   "execution_count": 37,
   "metadata": {},
   "outputs": [],
   "source": [
    "data['(O - E)**2/ E']=data['(O - E)**2']/data.Expected"
   ]
  },
  {
   "cell_type": "code",
   "execution_count": 38,
   "metadata": {},
   "outputs": [
    {
     "data": {
      "text/html": [
       "<div>\n",
       "<style scoped>\n",
       "    .dataframe tbody tr th:only-of-type {\n",
       "        vertical-align: middle;\n",
       "    }\n",
       "\n",
       "    .dataframe tbody tr th {\n",
       "        vertical-align: top;\n",
       "    }\n",
       "\n",
       "    .dataframe thead th {\n",
       "        text-align: right;\n",
       "    }\n",
       "</style>\n",
       "<table border=\"1\" class=\"dataframe\">\n",
       "  <thead>\n",
       "    <tr style=\"text-align: right;\">\n",
       "      <th></th>\n",
       "      <th>Observed</th>\n",
       "      <th>Expected</th>\n",
       "      <th>(O - E)**2</th>\n",
       "      <th>(O - E)**2/ E</th>\n",
       "    </tr>\n",
       "  </thead>\n",
       "  <tbody>\n",
       "    <tr>\n",
       "      <th>Higgins</th>\n",
       "      <td>41</td>\n",
       "      <td>25</td>\n",
       "      <td>256</td>\n",
       "      <td>10.24</td>\n",
       "    </tr>\n",
       "    <tr>\n",
       "      <th>Reardon</th>\n",
       "      <td>19</td>\n",
       "      <td>25</td>\n",
       "      <td>36</td>\n",
       "      <td>1.44</td>\n",
       "    </tr>\n",
       "    <tr>\n",
       "      <th>White</th>\n",
       "      <td>24</td>\n",
       "      <td>25</td>\n",
       "      <td>1</td>\n",
       "      <td>0.04</td>\n",
       "    </tr>\n",
       "    <tr>\n",
       "      <th>Charlton</th>\n",
       "      <td>16</td>\n",
       "      <td>25</td>\n",
       "      <td>81</td>\n",
       "      <td>3.24</td>\n",
       "    </tr>\n",
       "  </tbody>\n",
       "</table>\n",
       "</div>"
      ],
      "text/plain": [
       "          Observed  Expected  (O - E)**2  (O - E)**2/ E\n",
       "Higgins         41        25         256          10.24\n",
       "Reardon         19        25          36           1.44\n",
       "White           24        25           1           0.04\n",
       "Charlton        16        25          81           3.24"
      ]
     },
     "execution_count": 38,
     "metadata": {},
     "output_type": "execute_result"
    }
   ],
   "source": [
    "data"
   ]
  },
  {
   "cell_type": "code",
   "execution_count": 39,
   "metadata": {},
   "outputs": [
    {
     "name": "stdout",
     "output_type": "stream",
     "text": [
      "Chi-Squared test statistic =  14.959999999999999\n"
     ]
    }
   ],
   "source": [
    "chi_squared_stat=data.iloc[:,-1].values.sum()\n",
    "print(\"Chi-Squared test statistic = \",chi_squared_stat)"
   ]
  },
  {
   "cell_type": "markdown",
   "metadata": {},
   "source": [
    "Considering 5% level of significance, finding the table value of χ2  corresponding to 3(i.e.,4-1) degrees of freedom"
   ]
  },
  {
   "cell_type": "code",
   "execution_count": 40,
   "metadata": {},
   "outputs": [
    {
     "name": "stdout",
     "output_type": "stream",
     "text": [
      "Degrees_of_freedom=  3\n",
      "Chi-Square Statistic= 14.960\n",
      "Critical value= 7.815\n",
      "P value= 0.002\n",
      "\n",
      "We reject the null Hypothesis and conclude that candidates are not equally popular\n"
     ]
    }
   ],
   "source": [
    "import scipy.stats as stats\n",
    "df=3\n",
    "observed=data.iloc[:,0]\n",
    "expected=data.iloc[:,1]\n",
    "chi_squared_stat = (((observed-expected)**2)/expected).sum().sum()\n",
    " #   We call .sum() twice: once to get the column sums an\n",
    "print(\"Degrees_of_freedom= \",df)\n",
    "print(\"Chi-Square Statistic= {:.3f}\".format(chi_squared_stat))\n",
    "crit = stats.chi2.ppf(q = 0.95,df=3)   \n",
    "\n",
    "print(\"Critical value= {:.3f}\".format(crit))\n",
    "\n",
    "p_value = 1 - stats.chi2.cdf(x=chi_squared_stat,  # Find the p-value\n",
    "                             df=3)\n",
    "print(\"P value= {:.3f}\".format(p_value))\n",
    "if p_value<0.05:\n",
    "    print(\"\\nWe reject the null Hypothesis and conclude that candidates are not equally popular\")\n",
    "    \n",
    "else:\n",
    "    print(\"We do not reject the null hypothesis.\")"
   ]
  },
  {
   "cell_type": "markdown",
   "metadata": {},
   "source": [
    "The critical value of Chi-Square for a 0.05 significance level and 3 degrees of freedom is 7.82. Our obtained Chi-Square value is bigger than this, and so we conclude that our obtained value is unlikely to have occurred merely by chance. A Chi-Square value as large as ours will occur by chance only about once in a hundred trials. It seems more reasonable to conclude that the data do indeed suggest that candidates are not equally popular. "
   ]
  },
  {
   "cell_type": "markdown",
   "metadata": {},
   "source": [
    "### Problem Statement 20: \n",
    "Children of three ages are asked to indicate their preference for three photographs of adults. Do the data suggest that there is a significant relationship between age and photograph preference? What is wrong with this study? [Chi-Square = 29.6, with 4 df: 𝑝  < 0.05]. \n",
    "\n",
    "\n",
    "\n",
    "                                                            Photograph\n",
    "                                                            \n",
    "                                                         A      B       C\n",
    "                                                         \n",
    "                        Age of child     5-6 yrs         18     22      20\n",
    "                                         \n",
    "                                         7-8 yrs         2      28      40\n",
    "                                         \n",
    "                                         9-10 yrs        20     10      40\n",
    "                                                         \n",
    "                                                         \n",
    "\n",
    "\n",
    "\n",
    "\n",
    "\n",
    "\n",
    "\n",
    "\n"
   ]
  },
  {
   "cell_type": "markdown",
   "metadata": {},
   "source": [
    "Null Hypothesis, H0: No Significant relationship between age and photograph preference\n",
    "Alternate Hypothesis, H1:Significant relationship between age and photograph preference"
   ]
  },
  {
   "cell_type": "code",
   "execution_count": 41,
   "metadata": {},
   "outputs": [
    {
     "data": {
      "text/html": [
       "<div>\n",
       "<style scoped>\n",
       "    .dataframe tbody tr th:only-of-type {\n",
       "        vertical-align: middle;\n",
       "    }\n",
       "\n",
       "    .dataframe tbody tr th {\n",
       "        vertical-align: top;\n",
       "    }\n",
       "\n",
       "    .dataframe thead th {\n",
       "        text-align: right;\n",
       "    }\n",
       "</style>\n",
       "<table border=\"1\" class=\"dataframe\">\n",
       "  <thead>\n",
       "    <tr style=\"text-align: right;\">\n",
       "      <th></th>\n",
       "      <th>A</th>\n",
       "      <th>B</th>\n",
       "      <th>C</th>\n",
       "    </tr>\n",
       "  </thead>\n",
       "  <tbody>\n",
       "    <tr>\n",
       "      <th>5 - 6 yrs</th>\n",
       "      <td>18</td>\n",
       "      <td>2</td>\n",
       "      <td>20</td>\n",
       "    </tr>\n",
       "    <tr>\n",
       "      <th>7 - 8 yrs</th>\n",
       "      <td>22</td>\n",
       "      <td>28</td>\n",
       "      <td>10</td>\n",
       "    </tr>\n",
       "    <tr>\n",
       "      <th>9 - 10 yrs</th>\n",
       "      <td>20</td>\n",
       "      <td>40</td>\n",
       "      <td>40</td>\n",
       "    </tr>\n",
       "  </tbody>\n",
       "</table>\n",
       "</div>"
      ],
      "text/plain": [
       "             A   B   C\n",
       "5 - 6 yrs   18   2  20\n",
       "7 - 8 yrs   22  28  10\n",
       "9 - 10 yrs  20  40  40"
      ]
     },
     "execution_count": 41,
     "metadata": {},
     "output_type": "execute_result"
    }
   ],
   "source": [
    "data = {'A':[18,22,20], \n",
    "       'B': [2,28,40],'C':[20,10,40]} \n",
    "data = pd.DataFrame(data)\n",
    "data.rename(index= {0:'5 - 6 yrs',1:'7 - 8 yrs',2:'9 - 10 yrs'},inplace=True)\n",
    "data"
   ]
  },
  {
   "cell_type": "code",
   "execution_count": 42,
   "metadata": {},
   "outputs": [],
   "source": [
    "observed=pd.DataFrame(data)"
   ]
  },
  {
   "cell_type": "code",
   "execution_count": 43,
   "metadata": {},
   "outputs": [
    {
     "data": {
      "text/html": [
       "<div>\n",
       "<style scoped>\n",
       "    .dataframe tbody tr th:only-of-type {\n",
       "        vertical-align: middle;\n",
       "    }\n",
       "\n",
       "    .dataframe tbody tr th {\n",
       "        vertical-align: top;\n",
       "    }\n",
       "\n",
       "    .dataframe thead th {\n",
       "        text-align: right;\n",
       "    }\n",
       "</style>\n",
       "<table border=\"1\" class=\"dataframe\">\n",
       "  <thead>\n",
       "    <tr style=\"text-align: right;\">\n",
       "      <th></th>\n",
       "      <th>A</th>\n",
       "      <th>B</th>\n",
       "      <th>C</th>\n",
       "      <th>Row_Total</th>\n",
       "    </tr>\n",
       "  </thead>\n",
       "  <tbody>\n",
       "    <tr>\n",
       "      <th>5 - 6 yrs</th>\n",
       "      <td>18.0</td>\n",
       "      <td>2.0</td>\n",
       "      <td>20.0</td>\n",
       "      <td>40.0</td>\n",
       "    </tr>\n",
       "    <tr>\n",
       "      <th>7 - 8 yrs</th>\n",
       "      <td>22.0</td>\n",
       "      <td>28.0</td>\n",
       "      <td>10.0</td>\n",
       "      <td>60.0</td>\n",
       "    </tr>\n",
       "    <tr>\n",
       "      <th>9 - 10 yrs</th>\n",
       "      <td>20.0</td>\n",
       "      <td>40.0</td>\n",
       "      <td>40.0</td>\n",
       "      <td>100.0</td>\n",
       "    </tr>\n",
       "    <tr>\n",
       "      <th>Col_Total</th>\n",
       "      <td>60.0</td>\n",
       "      <td>70.0</td>\n",
       "      <td>70.0</td>\n",
       "      <td>200.0</td>\n",
       "    </tr>\n",
       "  </tbody>\n",
       "</table>\n",
       "</div>"
      ],
      "text/plain": [
       "               A     B     C  Row_Total\n",
       "5 - 6 yrs   18.0   2.0  20.0       40.0\n",
       "7 - 8 yrs   22.0  28.0  10.0       60.0\n",
       "9 - 10 yrs  20.0  40.0  40.0      100.0\n",
       "Col_Total   60.0  70.0  70.0      200.0"
      ]
     },
     "execution_count": 43,
     "metadata": {},
     "output_type": "execute_result"
    }
   ],
   "source": [
    "data.loc['Col_Total',:]= data.sum(axis=0)\n",
    "data.loc[:,'Row_Total']=data.sum(axis=1)\n",
    "data"
   ]
  },
  {
   "cell_type": "markdown",
   "metadata": {},
   "source": [
    "#### Calculating degrees of freedom\n",
    "number of Rows = 3\n",
    "\n",
    "number of colums=3\n",
    "\n",
    "Degrees of Freedom = (Number of rows - 1)*(Number of columns - 1)=(3-1)*(3-1)=2*2=4\n",
    "\n",
    "Sample size=200"
   ]
  },
  {
   "cell_type": "code",
   "execution_count": 44,
   "metadata": {},
   "outputs": [
    {
     "data": {
      "text/html": [
       "<div>\n",
       "<style scoped>\n",
       "    .dataframe tbody tr th:only-of-type {\n",
       "        vertical-align: middle;\n",
       "    }\n",
       "\n",
       "    .dataframe tbody tr th {\n",
       "        vertical-align: top;\n",
       "    }\n",
       "\n",
       "    .dataframe thead th {\n",
       "        text-align: right;\n",
       "    }\n",
       "</style>\n",
       "<table border=\"1\" class=\"dataframe\">\n",
       "  <thead>\n",
       "    <tr style=\"text-align: right;\">\n",
       "      <th></th>\n",
       "      <th>A</th>\n",
       "      <th>B</th>\n",
       "      <th>C</th>\n",
       "    </tr>\n",
       "  </thead>\n",
       "  <tbody>\n",
       "    <tr>\n",
       "      <th>5-6yrs</th>\n",
       "      <td>12.0</td>\n",
       "      <td>18.0</td>\n",
       "      <td>30.0</td>\n",
       "    </tr>\n",
       "    <tr>\n",
       "      <th>7-8yrs</th>\n",
       "      <td>14.0</td>\n",
       "      <td>21.0</td>\n",
       "      <td>35.0</td>\n",
       "    </tr>\n",
       "    <tr>\n",
       "      <th>9-10yrs</th>\n",
       "      <td>14.0</td>\n",
       "      <td>21.0</td>\n",
       "      <td>35.0</td>\n",
       "    </tr>\n",
       "  </tbody>\n",
       "</table>\n",
       "</div>"
      ],
      "text/plain": [
       "            A     B     C\n",
       "5-6yrs   12.0  18.0  30.0\n",
       "7-8yrs   14.0  21.0  35.0\n",
       "9-10yrs  14.0  21.0  35.0"
      ]
     },
     "execution_count": 44,
     "metadata": {},
     "output_type": "execute_result"
    }
   ],
   "source": [
    "expected =  np.outer(data.iloc[-1,:] ,\n",
    "                     data.iloc[:,-1] ) /200\n",
    "\n",
    "expected = pd.DataFrame(expected)\n",
    "expected.columns = ['A','B','C','Row_Total']\n",
    "expected.index = [\"5-6yrs\",\"7-8yrs\",\"9-10yrs\",\"Col_Total\"]\n",
    "\n",
    "expected=expected.iloc[0:3,0:3]\n",
    "expected"
   ]
  },
  {
   "cell_type": "code",
   "execution_count": 45,
   "metadata": {},
   "outputs": [
    {
     "name": "stdout",
     "output_type": "stream",
     "text": [
      "(Observed-Expected)**2 :\n",
      "  [[ 36 144  36]\n",
      " [ 16  49 121]\n",
      " [100  25  25]]\n",
      "\n",
      "(Observed-Expected)**2/Expected :\n",
      "  [[ 3.         10.28571429  2.57142857]\n",
      " [ 0.88888889  2.33333333  5.76190476]\n",
      " [ 3.33333333  0.71428571  0.71428571]]\n",
      "\n",
      "Chi_square Statistics=  29.603174603174605\n"
     ]
    }
   ],
   "source": [
    "observed = np.array([[18,2,20], [22,28,10],[20,40,40]])\n",
    "expected=np.array([[12,14,14],[18,21,21],[30,35,35]])\n",
    "print(\"(Observed-Expected)**2 :\\n \",((observed-expected)**2))\n",
    "Output_array=((observed-expected)**2/expected)\n",
    "print(\"\\n(Observed-Expected)**2/Expected :\\n \",((observed-expected)**2/expected))\n",
    "print(\"\\nChi_square Statistics= \",Output_array.sum())"
   ]
  },
  {
   "cell_type": "code",
   "execution_count": 46,
   "metadata": {
    "scrolled": true
   },
   "outputs": [
    {
     "name": "stdout",
     "output_type": "stream",
     "text": [
      "\n",
      "Chi_square Statistics=  29.603174603174605\n",
      "Critical value= 9.488\n",
      "We fail to reject null hypothesis and hence consider the alternate hypothesis\n"
     ]
    }
   ],
   "source": [
    "import scipy.stats as stats\n",
    "crit = stats.chi2.ppf(q =0.95,df = 4)   \n",
    "chi_squared_stat=Output_array.sum()                 \n",
    "print(\"\\nChi_square Statistics= \",Output_array.sum())\n",
    "print(\"Critical value= {:.3f}\".format(crit))\n",
    "if chi_squared_stat<crit:\n",
    "    print(\"We reject null hypothesis\")\n",
    "else:\n",
    "    print(\"We fail to reject null hypothesis and hence consider the alternate hypothesis\")"
   ]
  },
  {
   "cell_type": "code",
   "execution_count": 47,
   "metadata": {},
   "outputs": [
    {
     "name": "stdout",
     "output_type": "stream",
     "text": [
      "Chi-Square = 29.603174603174605, pvalue = 5.894582174262628e-06\n"
     ]
    }
   ],
   "source": [
    "result = stats.chi2_contingency(observed, correction = False)\n",
    "chisq, pvalue = result[:2]\n",
    "print('Chi-Square = {}, pvalue = {}'.format(chisq, pvalue))"
   ]
  },
  {
   "cell_type": "markdown",
   "metadata": {},
   "source": [
    "The critical value of Chi-Square in the table for a 0.05 significance level and 4 d.f. is 9.488. Our obtained Chi-Square value is bigger than this: therefore we have a Chi-Square value which is so large that it would occur by chance only about once in a thousand times. It seems more reasonable to accept the alternative hypothesis, that there is a significant relationship between age of child and photograph preference.\n",
    "\n",
    " "
   ]
  },
  {
   "cell_type": "markdown",
   "metadata": {},
   "source": [
    "### Problem Statement 21:  \n",
    " \n",
    "A study of conformity using the Asch paradigm involved two conditions: one where one confederate supported the true judgement and another where no confederate gave the correct response. \n",
    "\n",
    "                                                Support             No support\n",
    "                                       \n",
    "                                 Conform          18                      40\n",
    "                                     \n",
    "                                 Not conform      32                      10\n",
    " Is there a significant difference between the \"support\" and \"no support\" conditions in the frequency with which individuals are likely to conform? [Chi-Square = 19.87, with 1 df: 𝑝  < 0.05].  "
   ]
  },
  {
   "cell_type": "code",
   "execution_count": 48,
   "metadata": {},
   "outputs": [
    {
     "data": {
      "text/html": [
       "<div>\n",
       "<style scoped>\n",
       "    .dataframe tbody tr th:only-of-type {\n",
       "        vertical-align: middle;\n",
       "    }\n",
       "\n",
       "    .dataframe tbody tr th {\n",
       "        vertical-align: top;\n",
       "    }\n",
       "\n",
       "    .dataframe thead th {\n",
       "        text-align: right;\n",
       "    }\n",
       "</style>\n",
       "<table border=\"1\" class=\"dataframe\">\n",
       "  <thead>\n",
       "    <tr style=\"text-align: right;\">\n",
       "      <th></th>\n",
       "      <th>Support</th>\n",
       "      <th>No Support</th>\n",
       "    </tr>\n",
       "  </thead>\n",
       "  <tbody>\n",
       "    <tr>\n",
       "      <th>Conform</th>\n",
       "      <td>18</td>\n",
       "      <td>32</td>\n",
       "    </tr>\n",
       "    <tr>\n",
       "      <th>Not Conform</th>\n",
       "      <td>40</td>\n",
       "      <td>10</td>\n",
       "    </tr>\n",
       "  </tbody>\n",
       "</table>\n",
       "</div>"
      ],
      "text/plain": [
       "             Support  No Support\n",
       "Conform           18          32\n",
       "Not Conform       40          10"
      ]
     },
     "execution_count": 48,
     "metadata": {},
     "output_type": "execute_result"
    }
   ],
   "source": [
    "import numpy as np\n",
    "import pandas as pd\n",
    "df = pd.DataFrame(np.array([[18,32], [40,10]])\n",
    "                          ,columns=['Support','No Support'])\n",
    "df.rename(index={0:'Conform',1:'Not Conform'}, inplace=True)\n",
    "df"
   ]
  },
  {
   "cell_type": "code",
   "execution_count": 49,
   "metadata": {},
   "outputs": [],
   "source": [
    "Observed=df.copy()"
   ]
  },
  {
   "cell_type": "code",
   "execution_count": 50,
   "metadata": {},
   "outputs": [
    {
     "data": {
      "text/html": [
       "<div>\n",
       "<style scoped>\n",
       "    .dataframe tbody tr th:only-of-type {\n",
       "        vertical-align: middle;\n",
       "    }\n",
       "\n",
       "    .dataframe tbody tr th {\n",
       "        vertical-align: top;\n",
       "    }\n",
       "\n",
       "    .dataframe thead th {\n",
       "        text-align: right;\n",
       "    }\n",
       "</style>\n",
       "<table border=\"1\" class=\"dataframe\">\n",
       "  <thead>\n",
       "    <tr style=\"text-align: right;\">\n",
       "      <th></th>\n",
       "      <th>Support</th>\n",
       "      <th>No Support</th>\n",
       "      <th>Row_Total</th>\n",
       "    </tr>\n",
       "  </thead>\n",
       "  <tbody>\n",
       "    <tr>\n",
       "      <th>Conform</th>\n",
       "      <td>18.0</td>\n",
       "      <td>32.0</td>\n",
       "      <td>50.0</td>\n",
       "    </tr>\n",
       "    <tr>\n",
       "      <th>Not Conform</th>\n",
       "      <td>40.0</td>\n",
       "      <td>10.0</td>\n",
       "      <td>50.0</td>\n",
       "    </tr>\n",
       "    <tr>\n",
       "      <th>Col_Total</th>\n",
       "      <td>58.0</td>\n",
       "      <td>42.0</td>\n",
       "      <td>100.0</td>\n",
       "    </tr>\n",
       "  </tbody>\n",
       "</table>\n",
       "</div>"
      ],
      "text/plain": [
       "             Support  No Support  Row_Total\n",
       "Conform         18.0        32.0       50.0\n",
       "Not Conform     40.0        10.0       50.0\n",
       "Col_Total       58.0        42.0      100.0"
      ]
     },
     "execution_count": 50,
     "metadata": {},
     "output_type": "execute_result"
    }
   ],
   "source": [
    "df.loc['Col_Total',:]= df.sum(axis=0)\n",
    "df['Row_Total']=df.sum(axis=1)\n",
    "df"
   ]
  },
  {
   "cell_type": "code",
   "execution_count": 51,
   "metadata": {},
   "outputs": [
    {
     "data": {
      "text/html": [
       "<div>\n",
       "<style scoped>\n",
       "    .dataframe tbody tr th:only-of-type {\n",
       "        vertical-align: middle;\n",
       "    }\n",
       "\n",
       "    .dataframe tbody tr th {\n",
       "        vertical-align: top;\n",
       "    }\n",
       "\n",
       "    .dataframe thead th {\n",
       "        text-align: right;\n",
       "    }\n",
       "</style>\n",
       "<table border=\"1\" class=\"dataframe\">\n",
       "  <thead>\n",
       "    <tr style=\"text-align: right;\">\n",
       "      <th></th>\n",
       "      <th>Support</th>\n",
       "      <th>No Support</th>\n",
       "    </tr>\n",
       "  </thead>\n",
       "  <tbody>\n",
       "    <tr>\n",
       "      <th>Conform</th>\n",
       "      <td>14.5</td>\n",
       "      <td>10.5</td>\n",
       "    </tr>\n",
       "    <tr>\n",
       "      <th>Not Conform</th>\n",
       "      <td>14.5</td>\n",
       "      <td>10.5</td>\n",
       "    </tr>\n",
       "  </tbody>\n",
       "</table>\n",
       "</div>"
      ],
      "text/plain": [
       "             Support  No Support\n",
       "Conform         14.5        10.5\n",
       "Not Conform     14.5        10.5"
      ]
     },
     "execution_count": 51,
     "metadata": {},
     "output_type": "execute_result"
    }
   ],
   "source": [
    "expected =  np.outer(df[\"Row_Total\"][0:2],\n",
    "                     df.loc[\"Col_Total\"][0:2]) / 200\n",
    "\n",
    "expected = pd.DataFrame(expected)\n",
    "\n",
    "expected.columns = ['Support','No Support']\n",
    "expected.index = [\"Conform\",\"Not Conform\"]\n",
    "\n",
    "expected"
   ]
  },
  {
   "cell_type": "code",
   "execution_count": 52,
   "metadata": {},
   "outputs": [],
   "source": [
    "df=(2-1)*(2-1)"
   ]
  },
  {
   "cell_type": "code",
   "execution_count": 53,
   "metadata": {},
   "outputs": [
    {
     "data": {
      "text/plain": [
       "(2, 2)"
      ]
     },
     "execution_count": 53,
     "metadata": {},
     "output_type": "execute_result"
    }
   ],
   "source": [
    "Observed.shape"
   ]
  },
  {
   "cell_type": "code",
   "execution_count": 54,
   "metadata": {},
   "outputs": [
    {
     "data": {
      "text/plain": [
       "(2, 2)"
      ]
     },
     "execution_count": 54,
     "metadata": {},
     "output_type": "execute_result"
    }
   ],
   "source": [
    "expected.shape"
   ]
  },
  {
   "cell_type": "code",
   "execution_count": 55,
   "metadata": {},
   "outputs": [
    {
     "name": "stdout",
     "output_type": "stream",
     "text": [
      "Chi-Square Statistic= 89.737\n",
      "Critical value= 3.841\n"
     ]
    }
   ],
   "source": [
    "chi_squared_stat = (((Observed-expected)**2)/expected).sum().sum()\n",
    " #   We call .sum() twice: once to get the column sums and a second time to add the column sums together,\n",
    "#              returning the sum of the entire 2D table.\n",
    "print(\"Chi-Square Statistic= {:.3f}\".format(chi_squared_stat))\n",
    "import scipy.stats as stats\n",
    "crit = stats.chi2.ppf(q = 0.95, # Find the critical value for 95% confidence*\n",
    "                      df = 1)   \n",
    "\n",
    "print(\"Critical value= {:.3f}\".format(crit))\n"
   ]
  },
  {
   "cell_type": "code",
   "execution_count": 56,
   "metadata": {},
   "outputs": [
    {
     "name": "stdout",
     "output_type": "stream",
     "text": [
      "Chi-Square = 19.868637110016422, pvalue = 8.295006717156822e-06\n"
     ]
    }
   ],
   "source": [
    "result = stats.chi2_contingency(Observed, correction = False)\n",
    "chisq, pvalue = result[:2]\n",
    "print('Chi-Square = {}, pvalue = {}'.format(chisq, pvalue))"
   ]
  },
  {
   "cell_type": "markdown",
   "metadata": {},
   "source": [
    "Our obtained value of Chi-Squared is bigger than the critical value of Chi-Squared for a 0.05 significance level. In other words, there is less than a one in a thousand chance of obtaining a Chi-Square value as big as our obtained one, merely by chance. Therefore we can conclude that there is a significant difference between the \"support\" and \"no support\" conditions, in terms of the frequency with which individuals are likely to conform.\n",
    "\n",
    " "
   ]
  },
  {
   "cell_type": "markdown",
   "metadata": {},
   "source": [
    "### Problem Statement 22:  \n",
    " \n",
    "We want to test whether short people differ with respect to their leadership qualities (Genghis Khan, Adolf Hitler and Napoleon were all stature-deprived, and how many midget MP's are there?) The following table shows the frequencies with which 43 short people and 52 tall people were categorized as \"leaders\", \"followers\" or as \"unclassifiable\". Is there a relationship between height and leadership qualities?  \n",
    "[Chi-Square = 10.71, with 2 df: 𝑝  < 0.01]. \n",
    "\n",
    "                                                            Height\n",
    "                                                            \n",
    "                                                      Short           Tall\n",
    "                                                    \n",
    "                                      Leader            12              32\n",
    "                                        \n",
    "                                      Follower          22              14\n",
    "                                        \n",
    "                                      Unclassifiable    9               6\n",
    "\n",
    "\n",
    "\n",
    "\n",
    " "
   ]
  },
  {
   "cell_type": "code",
   "execution_count": 57,
   "metadata": {},
   "outputs": [
    {
     "data": {
      "text/html": [
       "<div>\n",
       "<style scoped>\n",
       "    .dataframe tbody tr th:only-of-type {\n",
       "        vertical-align: middle;\n",
       "    }\n",
       "\n",
       "    .dataframe tbody tr th {\n",
       "        vertical-align: top;\n",
       "    }\n",
       "\n",
       "    .dataframe thead th {\n",
       "        text-align: right;\n",
       "    }\n",
       "</style>\n",
       "<table border=\"1\" class=\"dataframe\">\n",
       "  <thead>\n",
       "    <tr style=\"text-align: right;\">\n",
       "      <th></th>\n",
       "      <th>Short</th>\n",
       "      <th>Tall</th>\n",
       "    </tr>\n",
       "  </thead>\n",
       "  <tbody>\n",
       "    <tr>\n",
       "      <th>Leader</th>\n",
       "      <td>12</td>\n",
       "      <td>32</td>\n",
       "    </tr>\n",
       "    <tr>\n",
       "      <th>Follower</th>\n",
       "      <td>22</td>\n",
       "      <td>14</td>\n",
       "    </tr>\n",
       "    <tr>\n",
       "      <th>Unclassifiable</th>\n",
       "      <td>9</td>\n",
       "      <td>6</td>\n",
       "    </tr>\n",
       "  </tbody>\n",
       "</table>\n",
       "</div>"
      ],
      "text/plain": [
       "                Short  Tall\n",
       "Leader             12    32\n",
       "Follower           22    14\n",
       "Unclassifiable      9     6"
      ]
     },
     "execution_count": 57,
     "metadata": {},
     "output_type": "execute_result"
    }
   ],
   "source": [
    "import numpy as np\n",
    "import pandas as pd\n",
    "df = pd.DataFrame(np.array([[12,32], [22,14],[9,6]])\n",
    "                          ,columns=['Short','Tall'])\n",
    "df.rename(index={0:'Leader',1:'Follower',2:'Unclassifiable'}, inplace=True)\n",
    "df"
   ]
  },
  {
   "cell_type": "code",
   "execution_count": 58,
   "metadata": {},
   "outputs": [],
   "source": [
    "observed=df.copy()"
   ]
  },
  {
   "cell_type": "code",
   "execution_count": 59,
   "metadata": {},
   "outputs": [
    {
     "data": {
      "text/html": [
       "<div>\n",
       "<style scoped>\n",
       "    .dataframe tbody tr th:only-of-type {\n",
       "        vertical-align: middle;\n",
       "    }\n",
       "\n",
       "    .dataframe tbody tr th {\n",
       "        vertical-align: top;\n",
       "    }\n",
       "\n",
       "    .dataframe thead th {\n",
       "        text-align: right;\n",
       "    }\n",
       "</style>\n",
       "<table border=\"1\" class=\"dataframe\">\n",
       "  <thead>\n",
       "    <tr style=\"text-align: right;\">\n",
       "      <th></th>\n",
       "      <th>Short</th>\n",
       "      <th>Tall</th>\n",
       "      <th>Row_Total</th>\n",
       "    </tr>\n",
       "  </thead>\n",
       "  <tbody>\n",
       "    <tr>\n",
       "      <th>Leader</th>\n",
       "      <td>12.0</td>\n",
       "      <td>32.0</td>\n",
       "      <td>44.0</td>\n",
       "    </tr>\n",
       "    <tr>\n",
       "      <th>Follower</th>\n",
       "      <td>22.0</td>\n",
       "      <td>14.0</td>\n",
       "      <td>36.0</td>\n",
       "    </tr>\n",
       "    <tr>\n",
       "      <th>Unclassifiable</th>\n",
       "      <td>9.0</td>\n",
       "      <td>6.0</td>\n",
       "      <td>15.0</td>\n",
       "    </tr>\n",
       "    <tr>\n",
       "      <th>Col_Total</th>\n",
       "      <td>43.0</td>\n",
       "      <td>52.0</td>\n",
       "      <td>95.0</td>\n",
       "    </tr>\n",
       "  </tbody>\n",
       "</table>\n",
       "</div>"
      ],
      "text/plain": [
       "                Short  Tall  Row_Total\n",
       "Leader           12.0  32.0       44.0\n",
       "Follower         22.0  14.0       36.0\n",
       "Unclassifiable    9.0   6.0       15.0\n",
       "Col_Total        43.0  52.0       95.0"
      ]
     },
     "execution_count": 59,
     "metadata": {},
     "output_type": "execute_result"
    }
   ],
   "source": [
    "df.loc['Col_Total',:]= df.sum(axis=0)\n",
    "df['Row_Total']=df.sum(axis=1)\n",
    "df"
   ]
  },
  {
   "cell_type": "code",
   "execution_count": 60,
   "metadata": {},
   "outputs": [
    {
     "data": {
      "text/html": [
       "<div>\n",
       "<style scoped>\n",
       "    .dataframe tbody tr th:only-of-type {\n",
       "        vertical-align: middle;\n",
       "    }\n",
       "\n",
       "    .dataframe tbody tr th {\n",
       "        vertical-align: top;\n",
       "    }\n",
       "\n",
       "    .dataframe thead th {\n",
       "        text-align: right;\n",
       "    }\n",
       "</style>\n",
       "<table border=\"1\" class=\"dataframe\">\n",
       "  <thead>\n",
       "    <tr style=\"text-align: right;\">\n",
       "      <th></th>\n",
       "      <th>Short</th>\n",
       "      <th>Tall</th>\n",
       "    </tr>\n",
       "  </thead>\n",
       "  <tbody>\n",
       "    <tr>\n",
       "      <th>Leader</th>\n",
       "      <td>19.915789</td>\n",
       "      <td>24.084211</td>\n",
       "    </tr>\n",
       "    <tr>\n",
       "      <th>Follower</th>\n",
       "      <td>16.294737</td>\n",
       "      <td>19.705263</td>\n",
       "    </tr>\n",
       "    <tr>\n",
       "      <th>Unclassifiable</th>\n",
       "      <td>6.789474</td>\n",
       "      <td>8.210526</td>\n",
       "    </tr>\n",
       "  </tbody>\n",
       "</table>\n",
       "</div>"
      ],
      "text/plain": [
       "                    Short       Tall\n",
       "Leader          19.915789  24.084211\n",
       "Follower        16.294737  19.705263\n",
       "Unclassifiable   6.789474   8.210526"
      ]
     },
     "execution_count": 60,
     "metadata": {},
     "output_type": "execute_result"
    }
   ],
   "source": [
    "expected =  np.outer(df[\"Row_Total\"][0:3],\n",
    "                     df.loc[\"Col_Total\"][0:2]) / 95\n",
    "\n",
    "expected = pd.DataFrame(expected)\n",
    "\n",
    "expected.columns = ['Short','Tall']\n",
    "expected.index = ['Leader','Follower','Unclassifiable']\n",
    "\n",
    "expected"
   ]
  },
  {
   "cell_type": "code",
   "execution_count": 61,
   "metadata": {},
   "outputs": [
    {
     "name": "stdout",
     "output_type": "stream",
     "text": [
      "Degrees of Freedom=  2\n",
      "Chi-Square Statistic= 10.712\n",
      "Critical value= 9.210\n"
     ]
    }
   ],
   "source": [
    "nRows=3\n",
    "nCols=2\n",
    "DF=(nRows-1)*(nCols-1)\n",
    "print(\"Degrees of Freedom= \",DF)\n",
    "chi_squared_stat = (((observed-expected)**2)/expected).sum().sum()\n",
    "print(\"Chi-Square Statistic= {:.3f}\".format(chi_squared_stat))\n",
    "import scipy.stats as stats\n",
    "crit = stats.chi2.ppf(q = 0.99,df = 2)   \n",
    "print(\"Critical value= {:.3f}\".format(crit))\n"
   ]
  },
  {
   "cell_type": "code",
   "execution_count": 62,
   "metadata": {},
   "outputs": [
    {
     "name": "stdout",
     "output_type": "stream",
     "text": [
      "Chi-Square = 10.712198008709638, pvalue = 0.004719280137040844\n"
     ]
    }
   ],
   "source": [
    "#Alternate method for knowing Chi-Square and p-value using stats\n",
    "result = stats.chi2_contingency(observed, correction = False)\n",
    "chisq, pvalue = result[:2]\n",
    "print('Chi-Square = {}, pvalue = {}'.format(chisq, pvalue))"
   ]
  },
  {
   "cell_type": "markdown",
   "metadata": {},
   "source": [
    "Our obtained value of Chi-Squared is bigger than the critical value of Chi-Squared for a 0.01 significance level. We would conclude that there seems to be a relationship between height and leadership qualities. Note that we can only say that there is a relationship between our two variables, not that one causes the other. There could be all kinds of explanations for such a relationship."
   ]
  },
  {
   "cell_type": "markdown",
   "metadata": {},
   "source": [
    "### Problem Statement 23:  \n",
    " \n",
    "Each respondent in the Current Population Survey of March 1993 was classified as employed, unemployed, or outside the labor force. The results for men in California age 35-44 can be cross-tabulated by marital status, as follows: \n",
    "\n",
    " \n",
    "Men of different marital status \n",
    "                                \n",
    "                                            Married      Widowed,divorced or separated    Never married\n",
    "                                       \n",
    "                          Employed             679           103                              114\n",
    "                        \n",
    "                        Unemployed              63           10                                20\n",
    "                        \n",
    "                        Not in labor force      42           18                                25   \n",
    "                                \n",
    "                                \n",
    "Men of different marital status seem to have different distributions of labor force status. Or is this just chance variation? (you may assume the table results from a simple random sample.)                    \n"
   ]
  },
  {
   "cell_type": "markdown",
   "metadata": {},
   "source": [
    "Null hypothesis,H0: marital status and employment status are not associated\n",
    "    \n",
    "Alternative hypothesis,H1: there is some association between marital status and employment status\n"
   ]
  },
  {
   "cell_type": "code",
   "execution_count": 63,
   "metadata": {},
   "outputs": [
    {
     "data": {
      "text/html": [
       "<div>\n",
       "<style scoped>\n",
       "    .dataframe tbody tr th:only-of-type {\n",
       "        vertical-align: middle;\n",
       "    }\n",
       "\n",
       "    .dataframe tbody tr th {\n",
       "        vertical-align: top;\n",
       "    }\n",
       "\n",
       "    .dataframe thead th {\n",
       "        text-align: right;\n",
       "    }\n",
       "</style>\n",
       "<table border=\"1\" class=\"dataframe\">\n",
       "  <thead>\n",
       "    <tr style=\"text-align: right;\">\n",
       "      <th></th>\n",
       "      <th>Married</th>\n",
       "      <th>Widowed,Divorced or separated</th>\n",
       "      <th>Never married</th>\n",
       "    </tr>\n",
       "  </thead>\n",
       "  <tbody>\n",
       "    <tr>\n",
       "      <th>Employed</th>\n",
       "      <td>679</td>\n",
       "      <td>103</td>\n",
       "      <td>114</td>\n",
       "    </tr>\n",
       "    <tr>\n",
       "      <th>Unemployed</th>\n",
       "      <td>63</td>\n",
       "      <td>10</td>\n",
       "      <td>20</td>\n",
       "    </tr>\n",
       "    <tr>\n",
       "      <th>Not in labor force</th>\n",
       "      <td>42</td>\n",
       "      <td>18</td>\n",
       "      <td>25</td>\n",
       "    </tr>\n",
       "  </tbody>\n",
       "</table>\n",
       "</div>"
      ],
      "text/plain": [
       "                    Married  Widowed,Divorced or separated  Never married\n",
       "Employed                679                            103            114\n",
       "Unemployed               63                             10             20\n",
       "Not in labor force       42                             18             25"
      ]
     },
     "execution_count": 63,
     "metadata": {},
     "output_type": "execute_result"
    }
   ],
   "source": [
    "import numpy as np\n",
    "import pandas as pd\n",
    "df = pd.DataFrame(np.array([[679,103,114], [63,10,20],[42,18,25]])\n",
    "                          ,columns=['Married','Widowed,Divorced or separated','Never married'])\n",
    "df.rename(index={0:'Employed',1:'Unemployed',2:'Not in labor force'}, inplace=True)\n",
    "df"
   ]
  },
  {
   "cell_type": "code",
   "execution_count": 64,
   "metadata": {},
   "outputs": [],
   "source": [
    "observed=df.copy()"
   ]
  },
  {
   "cell_type": "code",
   "execution_count": 65,
   "metadata": {},
   "outputs": [
    {
     "data": {
      "text/html": [
       "<div>\n",
       "<style scoped>\n",
       "    .dataframe tbody tr th:only-of-type {\n",
       "        vertical-align: middle;\n",
       "    }\n",
       "\n",
       "    .dataframe tbody tr th {\n",
       "        vertical-align: top;\n",
       "    }\n",
       "\n",
       "    .dataframe thead th {\n",
       "        text-align: right;\n",
       "    }\n",
       "</style>\n",
       "<table border=\"1\" class=\"dataframe\">\n",
       "  <thead>\n",
       "    <tr style=\"text-align: right;\">\n",
       "      <th></th>\n",
       "      <th>Married</th>\n",
       "      <th>Widowed,Divorced or separated</th>\n",
       "      <th>Never married</th>\n",
       "      <th>Row_Total</th>\n",
       "    </tr>\n",
       "  </thead>\n",
       "  <tbody>\n",
       "    <tr>\n",
       "      <th>Employed</th>\n",
       "      <td>679.0</td>\n",
       "      <td>103.0</td>\n",
       "      <td>114.0</td>\n",
       "      <td>896.0</td>\n",
       "    </tr>\n",
       "    <tr>\n",
       "      <th>Unemployed</th>\n",
       "      <td>63.0</td>\n",
       "      <td>10.0</td>\n",
       "      <td>20.0</td>\n",
       "      <td>93.0</td>\n",
       "    </tr>\n",
       "    <tr>\n",
       "      <th>Not in labor force</th>\n",
       "      <td>42.0</td>\n",
       "      <td>18.0</td>\n",
       "      <td>25.0</td>\n",
       "      <td>85.0</td>\n",
       "    </tr>\n",
       "    <tr>\n",
       "      <th>Col_Total</th>\n",
       "      <td>784.0</td>\n",
       "      <td>131.0</td>\n",
       "      <td>159.0</td>\n",
       "      <td>1074.0</td>\n",
       "    </tr>\n",
       "  </tbody>\n",
       "</table>\n",
       "</div>"
      ],
      "text/plain": [
       "                    Married  Widowed,Divorced or separated  Never married  \\\n",
       "Employed              679.0                          103.0          114.0   \n",
       "Unemployed             63.0                           10.0           20.0   \n",
       "Not in labor force     42.0                           18.0           25.0   \n",
       "Col_Total             784.0                          131.0          159.0   \n",
       "\n",
       "                    Row_Total  \n",
       "Employed                896.0  \n",
       "Unemployed               93.0  \n",
       "Not in labor force       85.0  \n",
       "Col_Total              1074.0  "
      ]
     },
     "execution_count": 65,
     "metadata": {},
     "output_type": "execute_result"
    }
   ],
   "source": [
    "df.loc['Col_Total',:]= df.sum(axis=0)\n",
    "df['Row_Total']=df.sum(axis=1)\n",
    "df"
   ]
  },
  {
   "cell_type": "code",
   "execution_count": 66,
   "metadata": {},
   "outputs": [
    {
     "data": {
      "text/html": [
       "<div>\n",
       "<style scoped>\n",
       "    .dataframe tbody tr th:only-of-type {\n",
       "        vertical-align: middle;\n",
       "    }\n",
       "\n",
       "    .dataframe tbody tr th {\n",
       "        vertical-align: top;\n",
       "    }\n",
       "\n",
       "    .dataframe thead th {\n",
       "        text-align: right;\n",
       "    }\n",
       "</style>\n",
       "<table border=\"1\" class=\"dataframe\">\n",
       "  <thead>\n",
       "    <tr style=\"text-align: right;\">\n",
       "      <th></th>\n",
       "      <th>Married</th>\n",
       "      <th>Widowed,Divorced or separated</th>\n",
       "      <th>Never married</th>\n",
       "    </tr>\n",
       "  </thead>\n",
       "  <tbody>\n",
       "    <tr>\n",
       "      <th>Employed</th>\n",
       "      <td>654.063315</td>\n",
       "      <td>109.288641</td>\n",
       "      <td>132.648045</td>\n",
       "    </tr>\n",
       "    <tr>\n",
       "      <th>Unemployed</th>\n",
       "      <td>67.888268</td>\n",
       "      <td>11.343575</td>\n",
       "      <td>13.768156</td>\n",
       "    </tr>\n",
       "    <tr>\n",
       "      <th>Not in labor force</th>\n",
       "      <td>62.048417</td>\n",
       "      <td>10.367784</td>\n",
       "      <td>12.583799</td>\n",
       "    </tr>\n",
       "  </tbody>\n",
       "</table>\n",
       "</div>"
      ],
      "text/plain": [
       "                       Married  Widowed,Divorced or separated  Never married\n",
       "Employed            654.063315                     109.288641     132.648045\n",
       "Unemployed           67.888268                      11.343575      13.768156\n",
       "Not in labor force   62.048417                      10.367784      12.583799"
      ]
     },
     "execution_count": 66,
     "metadata": {},
     "output_type": "execute_result"
    }
   ],
   "source": [
    "expected =  np.outer(df[\"Row_Total\"][0:3],\n",
    "                     df.loc[\"Col_Total\"][0:3]) / 1074\n",
    "\n",
    "expected = pd.DataFrame(expected)\n",
    "\n",
    "expected.columns = ['Married','Widowed,Divorced or separated','Never married']\n",
    "expected.index = ['Employed','Unemployed','Not in labor force']\n",
    "\n",
    "expected"
   ]
  },
  {
   "cell_type": "code",
   "execution_count": 67,
   "metadata": {},
   "outputs": [
    {
     "name": "stdout",
     "output_type": "stream",
     "text": [
      "Degrees of Freedom=  4\n",
      "Chi-Square Statistic= 31.613\n",
      "Critical value= 9.488\n"
     ]
    }
   ],
   "source": [
    "nRows=3\n",
    "nCols=3\n",
    "DF=(nRows-1)*(nCols-1)\n",
    "print(\"Degrees of Freedom= \",DF)\n",
    "chi_squared_stat = (((observed-expected)**2)/expected).sum().sum()\n",
    "print(\"Chi-Square Statistic= {:.3f}\".format(chi_squared_stat))\n",
    "import scipy.stats as stats\n",
    "crit = stats.chi2.ppf(q = 0.95,df = 4)   \n",
    "print(\"Critical value= {:.3f}\".format(crit))\n"
   ]
  },
  {
   "cell_type": "code",
   "execution_count": 68,
   "metadata": {},
   "outputs": [
    {
     "name": "stdout",
     "output_type": "stream",
     "text": [
      "Chi-Square = 31.61310319407798, pvalue = 2.2949883042859918e-06\n"
     ]
    }
   ],
   "source": [
    "#Alternate method for knowing Chi-Square and p-value using stats\n",
    "result = stats.chi2_contingency(observed, correction = False)\n",
    "chisq, pvalue = result[:2]\n",
    "print('Chi-Square = {}, pvalue = {}'.format(chisq, pvalue))"
   ]
  },
  {
   "cell_type": "code",
   "execution_count": 69,
   "metadata": {},
   "outputs": [
    {
     "name": "stdout",
     "output_type": "stream",
     "text": [
      "Reject the null hypothesis at the 0.05 significance level.\n"
     ]
    }
   ],
   "source": [
    "if pvalue<0.05:\n",
    "    print(\"Reject the null hypothesis at the 0.05 significance level.\")\n",
    "else:\n",
    "    print(\"There is a relationship between rows and columns.\")\n",
    "\n"
   ]
  },
  {
   "cell_type": "markdown",
   "metadata": {},
   "source": [
    "So, the chi-squared test statistic is about 31.61 with 4 degrees of freedom.  This gives us a p-value less than 0.05.  This is unlikely to be chance variation.  It is likely that men of different marital status have different distributions of labor force status.  (Note that we cannot give a cause-and-effect relationship here.)"
   ]
  },
  {
   "cell_type": "markdown",
   "metadata": {},
   "source": [
    "***"
   ]
  }
 ],
 "metadata": {
  "kernelspec": {
   "display_name": "Python 3",
   "language": "python",
   "name": "python3"
  },
  "language_info": {
   "codemirror_mode": {
    "name": "ipython",
    "version": 3
   },
   "file_extension": ".py",
   "mimetype": "text/x-python",
   "name": "python",
   "nbconvert_exporter": "python",
   "pygments_lexer": "ipython3",
   "version": "3.7.1"
  }
 },
 "nbformat": 4,
 "nbformat_minor": 2
}
